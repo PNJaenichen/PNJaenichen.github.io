{
 "cells": [
  {
   "cell_type": "code",
   "execution_count": 1,
   "metadata": {},
   "outputs": [],
   "source": [
    "import unicodedata\n",
    "import requests\n",
    "import numpy as np\n",
    "import re\n",
    "from bs4 import BeautifulSoup\n",
    "\n",
    "API_URL = \"https://statsapi.web.nhl.com/api/v1/\"\n",
    "\n",
    "play_id_dict = {'GAME_SCHEDULED': 'PGSTR', 'PERIOD_READY': 'PGEND', \n",
    "'PERIOD_START': 'PSTR', 'FACEOFF': 'FAC', 'HIT': 'HIT', 'STOP': 'STOP', \n",
    "'SHOT': 'SHOT', 'TAKEAWAY': 'TAKE', 'BLOCKED_SHOT': 'BLOCK', \n",
    "'MISSED_SHOT': 'MISS', 'GIVEAWAY': 'GIVE', 'PERIOD_END': 'PEND', \n",
    "'PERIOD_OFFICIAL': '', 'GOAL': 'GOAL', 'PENALTY': 'PENL', 'GAME_END': 'GEND', \n",
    "'GAME_OFFICIAL': ''}"
   ]
  },
  {
   "cell_type": "code",
   "execution_count": 4,
   "metadata": {},
   "outputs": [],
   "source": [
    "def search_for_games(start, end=None):\n",
    "  \"\"\"\n",
    "  Gets the list of Game IDs for games played during the requested time period.\n",
    "\n",
    "  Dates should be in YYYY-MM-DD format as string, with time period requested.\n",
    "  For same day, enter a single date. Returns a list of all games played during \n",
    "  that time period.\n",
    "  \"\"\"\n",
    "  web_request = requests.get(API_URL + f\"schedule?startDate={start}&endDate={end if end else start}\")\n",
    "  data_json = web_request.json()\n",
    "  if end == None:\n",
    "    gameList = data_json[\"dates\"][0][\"games\"]\n",
    "  else:\n",
    "    gameList = []\n",
    "    for day in data_json[\"dates\"]:\n",
    "      for game in day[\"games\"]:\n",
    "        gameList.append(game)\n",
    "  return gameList\n",
    "\n",
    "def get_game_info(gameID):\n",
    "  \"\"\"\n",
    "  Gets game information from the NHL API. \n",
    "  \n",
    "  Takes a single parameter, gameID, in string format.\n",
    "\n",
    "  Game ID is in the format YYYYTT#### where YYYY is start year of season. \n",
    "  TT is the game type: 01 Preseason, 02 Regular Season, 03 Playoffs, and \n",
    "  04 All Star. #### is the game number start at 0001. In the playoffs, the \n",
    "  second digit indicates the round, the third digit indicates the matchup, \n",
    "  and the final digit indicates the game number.\n",
    "\n",
    "  Returns JSON \n",
    "  \"\"\"\n",
    "  web_request = requests.get(API_URL + f\"game/{gameID}/feed/live\")\n",
    "  data_json = web_request.json()\n",
    "  if len(data_json) == 2:\n",
    "    return None\n",
    "  else:\n",
    "    return data_json\n"
   ]
  },
  {
   "cell_type": "code",
   "execution_count": 16,
   "metadata": {},
   "outputs": [],
   "source": [
    "gameID = '2021020001'"
   ]
  },
  {
   "cell_type": "code",
   "execution_count": 17,
   "metadata": {},
   "outputs": [],
   "source": [
    "plays = get_game_info(gameID)['liveData']['plays']['allPlays']"
   ]
  },
  {
   "cell_type": "code",
   "execution_count": 18,
   "metadata": {},
   "outputs": [],
   "source": [
    "season = f\"{gameID[:4]}{int(gameID[:4]) + 1}\"\n",
    "web_request = requests.get(f\"http://www.nhl.com/scores/htmlreports/{season}/PL{gameID[4:]}.HTM\")\n",
    "soup = BeautifulSoup(web_request.content, 'html.parser')"
   ]
  },
  {
   "cell_type": "code",
   "execution_count": 19,
   "metadata": {},
   "outputs": [],
   "source": [
    "def clean_play_by_play(pages):\n",
    "  \"\"\"\n",
    "  Takes the raw html from the NHL play by play page and parses out each \n",
    "  of the plays.\n",
    "\n",
    "  Takes a single parameter, 'pages' which is a list of elements from the\n",
    "  NHL Play by Play site with the class of page. It then parses out each\n",
    "  of the plays and does an initial cleaning of the data.\n",
    "\n",
    "  Returns a list of plays, with each of those being a list. \n",
    "  \"\"\"\n",
    "  allPlays = []\n",
    "\n",
    "  for page in pages:\n",
    "    tableRows = [row for row in page.table.children if row != \"\\n\"]\n",
    "    data = []\n",
    "    for row in tableRows:\n",
    "      rowCells = [block for block in row.children if block != \"\\n\"]\n",
    "      cleanRow = []\n",
    "      for row in rowCells:\n",
    "        cleanRow.append(unicodedata.normalize('NFKD', row.get_text()).strip().replace(\"\\n\",\"\"))\n",
    "      data.append(cleanRow)\n",
    "    for play in data:\n",
    "      cleanData = [play for play in data if len(play) == 8]\n",
    "    for play in cleanData:\n",
    "      if play[0] == '#':\n",
    "        continue\n",
    "      else:\n",
    "        play[3] = re.findall(r'(\\d{1,2}:\\d{2})', play[3])\n",
    "        homePlayers = {}\n",
    "        visitPlayers = {}\n",
    "        if 'Ice' not in play[6]:\n",
    "          for player in play[6].split():\n",
    "            if (player[-1] == 'D') & ('D1' in homePlayers):\n",
    "              homePlayers['D2'] = player[:-1]\n",
    "            elif player[-1] == 'D':\n",
    "              homePlayers['D1'] = player[:-1]\n",
    "            else:\n",
    "              homePlayers[player[-1]] = player[:-1]\n",
    "          for player in play[7].split():\n",
    "            if (player[-1] == 'D') & ('D1' in visitPlayers):\n",
    "              visitPlayers['D2'] = player[:-1]\n",
    "            elif player[-1] == 'D':\n",
    "              visitPlayers['D1'] = player[:-1]\n",
    "            else:\n",
    "              visitPlayers[player[-1]] = player[:-1]\n",
    "          play[6] = homePlayers\n",
    "          play[7] = visitPlayers\n",
    "        allPlays.append(play)\n",
    "  return allPlays\n"
   ]
  },
  {
   "cell_type": "code",
   "execution_count": 20,
   "metadata": {},
   "outputs": [],
   "source": [
    "main_plays = clean_play_by_play(soup.select('.page'))"
   ]
  },
  {
   "cell_type": "code",
   "execution_count": 23,
   "metadata": {},
   "outputs": [
    {
     "name": "stdout",
     "output_type": "stream",
     "text": [
      "['4', '1', '', ['0:00', '20:00'], 'PSTR', 'Period Start- Local time: 7:43 EDT', {'C': '77', 'R': '17', 'L': '43', 'D1': '8', 'D2': '58', 'G': '35'}, {'C': '21', 'R': '86', 'L': '18', 'D1': '27', 'D2': '81', 'G': '88'}]\n"
     ]
    }
   ],
   "source": [
    "print(main_plays[3])"
   ]
  },
  {
   "cell_type": "code",
   "execution_count": null,
   "metadata": {},
   "outputs": [],
   "source": [
    "\n",
    "def combine_play_information(main_info, player_info):\n",
    "  \"\"\"\n",
    "  Takes two parameters. The first is a list of plays from the NHL Play by\n",
    "  Play HTML report that has been parsed. The second is the list of plays\n",
    "  from the same game from the NHL API. It then executes an inner join \n",
    "  based on the period, time into the period, and the event type.\n",
    "\n",
    "  Returns a list of plays in the following format: [playId, period, strength,\n",
    "  [Time Elapsed, Time Remaining], Event, Descripition, Away Team Players on\n",
    "  Ice, Home Team Players on Ice, ...1-4 players involved in the play, dateTime,\n",
    "  Coordinates]\n",
    "  \"\"\"\n",
    "  final_plays = main_info\n",
    "  track_i = 0\n",
    "  for mainPlay in final_plays:\n",
    "    if mainPlay[0] == '#':\n",
    "      continue\n",
    "    perTime, timeLeft = mainPlay.pop(3)\n",
    "    if perTime[0:2] == '0:':\n",
    "      perTime = '00:' + perTime[-2:]\n",
    "    mainPlay.insert(3, perTime)\n",
    "    mainPlay.insert(4, timeLeft)\n",
    "    for ind in range(track_i, len(player_info)):\n",
    "      if all([\n",
    "          play_id_dict[player_info[ind]['result']['eventTypeId']] == mainPlay[5],\n",
    "          player_info[ind]['about']['period'] == int(mainPlay[1]),\n",
    "          player_info[ind]['about']['periodTime'] == mainPlay[3]\n",
    "      ]):\n",
    "        if 'players' in player_info[ind]:\n",
    "          mainPlay.append(player_info[ind]['players'][0]['player']['fullName'])\n",
    "          if len(player_info[ind]['players']) > 1:\n",
    "            mainPlay.append(player_info[ind]['players'][1]['player']['fullName'])\n",
    "          if len(player_info[ind]['players']) > 2:\n",
    "            mainPlay.append(player_info[ind]['players'][2]['player']['fullName'])\n",
    "          if len(player_info[ind]['players']) > 3:\n",
    "            mainPlay.append(player_info[ind]['players'][3]['player']['fullName'])\n",
    "          for _ in range(len(player_info[ind]['players']),4):\n",
    "            mainPlay.append('')\n",
    "        else:\n",
    "          for _ in range(0,4):\n",
    "            mainPlay.append('')\n",
    "        mainPlay.append(player_info[ind]['about']['dateTime'])\n",
    "        mainPlay.append(player_info[ind]['coordinates'])\n",
    "        track_i = ind + 1\n",
    "  return final_plays"
   ]
  }
 ],
 "metadata": {
  "interpreter": {
   "hash": "fb454c344548368b3e5a33467bf12fe7ff82e15024a3e1d5894b8068e48602a5"
  },
  "kernelspec": {
   "display_name": "Python 3.10.0 64-bit",
   "language": "python",
   "name": "python3"
  },
  "language_info": {
   "codemirror_mode": {
    "name": "ipython",
    "version": 3
   },
   "file_extension": ".py",
   "mimetype": "text/x-python",
   "name": "python",
   "nbconvert_exporter": "python",
   "pygments_lexer": "ipython3",
   "version": "3.10.0"
  },
  "orig_nbformat": 4
 },
 "nbformat": 4,
 "nbformat_minor": 2
}
