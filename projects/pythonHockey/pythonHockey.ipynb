{
 "cells": [
  {
   "cell_type": "markdown",
   "metadata": {},
   "source": [
    "<h1><center>NHL DATA SCRAPE AND VISUALIZATION</center></h1>\n",
    "<h2><center>A Learning Project</center></h2>"
   ]
  },
  {
   "cell_type": "markdown",
   "metadata": {},
   "source": [
    "The following is an attempt to learn pandas, numpy, and beautifulsoup in order to create a repository of data scrapped from the web, clean it, and then process it to draw and test assumptions against that data. This will utilize the NHL API along with the NHL Play by Play sheet. One of the reasons to use a Jupyter Notebook is to avoid multiple calls to the mentioned websites but still continue to work with the data they provide."
   ]
  },
  {
   "cell_type": "markdown",
   "metadata": {},
   "source": [
    "First we import the required python libraries. \n",
    "- BeautifulSoup will allow us to manipulate the html files from the NHL Play by Play \n",
    "- NHLget is a self made module which accesses the NHL API and the NHL Play by Play pages. It has three functions: One to return a list of games played during the provided time period (NHL API). One to return game information about a specific game (NHL API), and the third to provide play by play information (NHL Play by Play)."
   ]
  },
  {
   "cell_type": "code",
   "execution_count": 140,
   "metadata": {},
   "outputs": [],
   "source": [
    "from bs4 import BeautifulSoup\n",
    "import unicodedata\n",
    "import NHLget"
   ]
  },
  {
   "cell_type": "code",
   "execution_count": 141,
   "metadata": {},
   "outputs": [],
   "source": [
    "soup = NHLget.get_player_on_ice_info('2021020001')"
   ]
  },
  {
   "cell_type": "code",
   "execution_count": 144,
   "metadata": {},
   "outputs": [],
   "source": [
    "pages = soup.select('.page')\n",
    "\n",
    "allPlays = []\n",
    "\n",
    "for page in pages:\n",
    "  tableRows = [row for row in page.table.children if row != \"\\n\"]\n",
    "  data = []\n",
    "  for row in tableRows:\n",
    "    rowCells = [block for block in row.children if block != \"\\n\"]\n",
    "    cleanRow = []\n",
    "    for row in rowCells:\n",
    "      cleanRow.append(unicodedata.normalize('NFKD', row.get_text()).strip().replace(\"\\n\",\"\"))\n",
    "    data.append(cleanRow)\n",
    "  for play in data:\n",
    "    cleanData = [play for play in data if len(play) == 8]\n",
    "  for play in cleanData:\n",
    "    allPlays.append(play)\n",
    "\n"
   ]
  }
 ],
 "metadata": {
  "interpreter": {
   "hash": "b6673b262a7d29c79597d819f36d32fd11e60f7609d2f6dc9cb7d01d53349877"
  },
  "kernelspec": {
   "display_name": "Python 3.9.6 64-bit ('venv': venv)",
   "name": "python3"
  },
  "language_info": {
   "codemirror_mode": {
    "name": "ipython",
    "version": 3
   },
   "file_extension": ".py",
   "mimetype": "text/x-python",
   "name": "python",
   "nbconvert_exporter": "python",
   "pygments_lexer": "ipython3",
   "version": "3.9.6"
  },
  "orig_nbformat": 4
 },
 "nbformat": 4,
 "nbformat_minor": 2
}
