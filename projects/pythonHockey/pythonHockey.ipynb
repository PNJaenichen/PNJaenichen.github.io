{
 "cells": [
  {
   "cell_type": "markdown",
   "metadata": {},
   "source": [
    "<h1><center>NHL DATA SCRAPE AND VISUALIZATION</center></h1>\n",
    "<h2><center>A Learning Project</center></h2>"
   ]
  },
  {
   "cell_type": "markdown",
   "metadata": {},
   "source": [
    "The following is an attempt to learn pandas, numpy, and beautifulsoup in order to create a repository of data scrapped from the web, clean it, and then process it to draw and test assumptions against that data. This will utilize the NHL API along with the NHL Play by Play sheet. One of the reasons to use a Jupyter Notebook is to avoid multiple calls to the mentioned websites but still continue to work with the data they provide."
   ]
  },
  {
   "cell_type": "markdown",
   "metadata": {},
   "source": [
    "First we import the required python libraries. \n",
    "- BeautifulSoup will allow us to manipulate the html files from the NHL Play by Play \n",
    "- NHLget is a self made module which accesses the NHL API and the NHL Play by Play pages. It has three functions: One to return a list of games played during the provided time period (NHL API). One to return game information about a specific game (NHL API), and the third to provide play by play information (NHL Play by Play)."
   ]
  },
  {
   "cell_type": "code",
   "execution_count": 62,
   "metadata": {},
   "outputs": [],
   "source": [
    "from bs4 import BeautifulSoup\n",
    "import unicodedata\n",
    "import NHLget"
   ]
  },
  {
   "cell_type": "code",
   "execution_count": 2,
   "metadata": {},
   "outputs": [],
   "source": [
    "soup = NHLget.get_player_on_ice_info('2021020001')"
   ]
  },
  {
   "cell_type": "code",
   "execution_count": 96,
   "metadata": {},
   "outputs": [
    {
     "name": "stdout",
     "output_type": "stream",
     "text": [
      "['#', 'Per', 'Str', 'Time:ElapsedGame', 'Event', 'Description', 'PIT On Ice', 'TBL On Ice']\n",
      "['1', '1', '', '0:0020:00', 'PGSTR', '', '', '']\n",
      "['2', '1', '', '0:0020:00', 'PGEND', '', '', '']\n",
      "['3', '1', '', '0:0020:00', 'ANTHEM', '', '', '']\n",
      "['4', '1', '', '0:0020:00', 'PSTR', 'Period Start- Local time: 7:43 EDT', '77C 17R 43L 8D 58D 35G', '21C 86R 18L 27D 81D 88G']\n",
      "['5', '1', 'EV', '0:0020:00', 'FAC', 'PIT won Neu. Zone - PIT #77 CARTER vs TBL #21 POINT', '77C 17R 43L 8D 58D 35G', '21C 86R 18L 27D 81D 88G']\n",
      "['6', '1', 'EV', '0:1819:42', 'HIT', 'TBL #18 PALAT HIT PIT #77 CARTER, Off. Zone', '77C 17R 43L 8D 58D 35G', '21C 86R 18L 27D 81D 88G']\n",
      "['7', '1', '', '0:3819:22', 'STOP', 'PUCK IN NETTING', '9C 42R 16L 6D 28D 35G', '17C 71C 91C 44D 77D 88G']\n",
      "['8', '1', 'EV', '0:3819:22', 'FAC', 'TBL won Neu. Zone - PIT #9 RODRIGUES vs TBL #71 CIRELLI', '9C 42R 16L 6D 28D 35G', '17C 71C 91C 44D 77D 88G']\n",
      "['9', '1', 'EV', '0:5319:07', 'HIT', 'TBL #71 CIRELLI HIT PIT #28 PETTERSSON, Off. Zone', '9C 42R 16L 6D 28D 35G', '17C 71C 91C 44D 77D 88G']\n",
      "['10', '1', 'EV', '1:0318:57', 'SHOT', 'TBL ONGOAL - #91 STAMKOS, Wrist, Off. Zone, 42 ft.', '9C 42R 16L 6D 28D 35G', '17C 71C 91C 24D 98D 88G']\n",
      "['11', '1', '', '1:0318:57', 'STOP', 'GOALIE STOPPED (AFTER SOG)', '49C 53C 23L 8D 58D 35G', '17C 71C 91C 24D 98D 88G']\n",
      "['12', '1', 'EV', '1:0318:57', 'FAC', 'PIT won Def. Zone - PIT #53 BLUEGER vs TBL #79 COLTON', '49C 53C 23L 8D 58D 35G', '79C 7R 10R 24D 98D 88G']\n",
      "['13', '1', 'EV', '1:1818:42', 'TAKE', 'TBL TAKEAWAY - #7 JOSEPH, Off. Zone', '49C 53C 23L 8D 58D 35G', '79C 7R 10R 24D 98D 88G']\n",
      "['14', '1', 'EV', '1:2518:35', 'BLOCK', 'TBL #24 BOGOSIAN BLOCKED BY  PIT #23 MCGINN, Wrist, Def. Zone', '49C 53C 23L 8D 58D 35G', '79C 7R 10R 24D 98D 88G']\n",
      "['15', '1', 'EV', '1:4418:16', 'SHOT', 'PIT ONGOAL - #23 MCGINN, Wrist, Off. Zone, 30 ft.', '49C 53C 23L 2D 52D 35G', '16R 14L 41L 44D 77D 88G']\n",
      "['16', '1', 'EV', '1:5718:03', 'HIT', 'PIT #18 LAFFERTY HIT TBL #44 RUTTA, Off. Zone', '11C 18C 10L 2D 52D 35G', '16R 14L 41L 44D 77D 88G']\n",
      "['17', '1', 'EV', '2:0117:59', 'SHOT', 'TBL ONGOAL - #44 RUTTA, Wrist, Neu. Zone, 100 ft.', '11C 18C 10L 2D 52D 35G', '16R 14L 41L 44D 77D 88G']\n",
      "['18', '1', '', '2:3217:28', 'STOP', 'ICING', '77C 17R 43L 8D 58D 35G', '21C 18L 41L 27D 81D 88G']\n",
      "['19', '1', 'EV', '2:3217:28', 'FAC', 'PIT won Off. Zone - PIT #77 CARTER vs TBL #41 BELLEMARE', '77C 17R 43L 8D 58D 35G', '21C 18L 41L 27D 81D 88G']\n",
      "['20', '1', 'EV', '2:4517:15', 'HIT', 'PIT #77 CARTER HIT TBL #41 BELLEMARE, Off. Zone', '77C 17R 43L 8D 58D 35G', '21C 18L 41L 27D 81D 88G']\n",
      "['21', '1', 'EV', '2:4717:13', 'SHOT', 'PIT ONGOAL - #43 HEINEN, Wrist, Off. Zone, 29 ft.', '77C 17R 43L 8D 58D 35G', '21C 18L 41L 27D 81D 88G']\n",
      "['22', '1', '', '2:4817:12', 'STOP', 'PUCK IN NETTING', '77C 17R 43L 8D 58D 35G', '21C 18L 41L 27D 81D 88G']\n",
      "['23', '1', 'EV', '2:4817:12', 'FAC', 'TBL won Def. Zone - PIT #77 CARTER vs TBL #21 POINT', '77C 17R 43L 8D 58D 35G', '21C 18L 41L 27D 81D 88G']\n",
      "['24', '1', 'EV', '3:0716:53', 'SHOT', 'TBL ONGOAL - #18 PALAT, Wrist, Off. Zone, 26 ft.', '77C 17R 43L 8D 58D 35G', '21C 18L 41L 27D 81D 88G']\n",
      "['25', '1', 'EV', '3:1116:49', 'BLOCK', 'TBL #81 CERNAK BLOCKED BY  PIT #43 HEINEN, Wrist, Def. Zone', '77C 17R 43L 8D 58D 35G', '21C 18L 41L 27D 81D 88G']\n",
      "['26', '1', '', '3:1816:42', 'STOP', 'ICING', '9C 42R 16L 6D 28D 35G', '21C 18L 41L 27D 81D 88G']\n",
      "['27', '1', 'EV', '3:1816:42', 'FAC', 'PIT won Off. Zone - PIT #9 RODRIGUES vs TBL #21 POINT', '9C 42R 16L 6D 28D 35G', '21C 18L 41L 27D 81D 88G']\n",
      "['28', '1', 'EV', '3:3316:27', 'BLOCK', 'PIT #9 RODRIGUES BLOCKED BY  TBL #27 MCDONAGH, Wrist, Def. Zone', '9C 42R 16L 6D 28D 35G', '21C 18L 41L 27D 81D 88G']\n",
      "['29', '1', 'EV', '4:0915:51', 'HIT', 'PIT #9 RODRIGUES HIT TBL #27 MCDONAGH, Off. Zone', '9C 42R 16L 8D 58D 35G', '21C 18L 41L 27D 81D 88G']\n",
      "['30', '1', '', '4:2815:32', 'STOP', 'ICING', '49C 53C 23L 2D 52D 35G', '17C 71C 91C 88G']\n",
      "['31', '1', 'EV', '4:2815:32', 'FAC', 'PIT won Off. Zone - PIT #53 BLUEGER vs TBL #21 POINT', '49C 53C 23L 2D 52D 35G', '17C 21C 86R 27D 81D 88G']\n",
      "['32', '1', 'EV', '4:3215:28', 'SHOT', 'PIT ONGOAL - #52 FRIEDMAN, Wrist, Off. Zone, 42 ft.', '49C 53C 23L 2D 52D 35G', '17C 21C 86R 27D 81D 88G']\n"
     ]
    }
   ],
   "source": [
    "pageOne = soup.select('.page')\n",
    "tableRows = [row for row in pageOne[0].table.children if row != \"\\n\"]\n",
    "data = []\n",
    "for row in tableRows:\n",
    "  rowCells = [block for block in row.children if block != \"\\n\"]\n",
    "  cleanRow = []\n",
    "  for row in rowCells:\n",
    "    cleanRow.append(unicodedata.normalize('NFKD', row.get_text()).strip().replace(\"\\n\",\"\"))\n",
    "  data.append(cleanRow)\n",
    "\n",
    "for play in data:\n",
    "  cleanData = [play for play in data if len(play) == 8]\n",
    "\n",
    "for play in cleanData:\n",
    "  print(play)\n"
   ]
  }
 ],
 "metadata": {
  "interpreter": {
   "hash": "b6673b262a7d29c79597d819f36d32fd11e60f7609d2f6dc9cb7d01d53349877"
  },
  "kernelspec": {
   "display_name": "Python 3.9.6 64-bit ('venv': venv)",
   "name": "python3"
  },
  "language_info": {
   "codemirror_mode": {
    "name": "ipython",
    "version": 3
   },
   "file_extension": ".py",
   "mimetype": "text/x-python",
   "name": "python",
   "nbconvert_exporter": "python",
   "pygments_lexer": "ipython3",
   "version": "3.9.6"
  },
  "orig_nbformat": 4
 },
 "nbformat": 4,
 "nbformat_minor": 2
}
