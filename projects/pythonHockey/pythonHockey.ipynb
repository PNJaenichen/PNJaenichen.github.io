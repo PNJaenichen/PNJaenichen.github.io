{
 "cells": [
  {
   "cell_type": "markdown",
   "metadata": {},
   "source": [
    "<h1><center>NHL DATA SCRAPE AND VISUALIZATION</center></h1>\n",
    "<h2><center>A Learning Project</center></h2>"
   ]
  },
  {
   "cell_type": "markdown",
   "metadata": {},
   "source": [
    "The following is an attempt to learn pandas, numpy, and beautifulsoup in order to create a repository of data scrapped from the web, clean it, and then process it to draw and test assumptions against that data. This will utilize the NHL API along with the NHL Play by Play sheet. One of the reasons to use a Jupyter Notebook is to avoid multiple calls to the mentioned websites but still continue to work with the data they provide."
   ]
  },
  {
   "cell_type": "markdown",
   "metadata": {},
   "source": [
    "First we import the required python libraries. \n",
    "- NHLget is a self made module which accesses the NHL API and the NHL Play by Play pages. It has five functions, three are internal to the module and the other two can be accessed. One of the outward facing functions returns a list of gameIDs for a provided time period. The other returns play information for a speific game. The three inner functions work with the later. One gets the game information from the NHL API, the second gets additional game information from the NHL Game Report, and the final one combines those two and then returns the game information.\n",
    "- Pandas module will be used to conduct the data analysis.\n",
    "- Matplotlib will be used for data visualization."
   ]
  },
  {
   "cell_type": "code",
   "execution_count": 1,
   "metadata": {},
   "outputs": [],
   "source": [
    "import NHLget\n",
    "import pandas as pd\n",
    "import matplotlib.pyplot as plt \n",
    "import numpy as np"
   ]
  },
  {
   "cell_type": "code",
   "execution_count": 2,
   "metadata": {},
   "outputs": [],
   "source": [
    "all_plays = NHLget.get_player_on_ice_info('2021020001')"
   ]
  },
  {
   "cell_type": "code",
   "execution_count": 7,
   "metadata": {},
   "outputs": [],
   "source": [
    "column_names = [\n",
    "  'play_id', \n",
    "  'period', \n",
    "  'strength', \n",
    "  'period_time', \n",
    "  'play_code', \n",
    "  'play_description', \n",
    "  'visit_player_on_ice', \n",
    "  'home_player_on_ice', \n",
    "  'player_one', \n",
    "  'player_two', \n",
    "  'player_three', \n",
    "  'player_four', \n",
    "  'date_time', \n",
    "  'coordinates'\n",
    "]\n",
    "\n",
    "game_df = pd.DataFrame(all_plays, columns = column_names)\n",
    "game_df.set_index('play_id', inplace = True)"
   ]
  },
  {
   "cell_type": "code",
   "execution_count": 8,
   "metadata": {},
   "outputs": [
    {
     "name": "stdout",
     "output_type": "stream",
     "text": [
      "        period strength     period_time play_code  \\\n",
      "play_id                                             \n",
      "1            1           [00:00, 20:00]     PGSTR   \n",
      "2            1           [00:00, 20:00]     PGEND   \n",
      "3            1           [00:00, 20:00]    ANTHEM   \n",
      "4            1           [00:00, 20:00]      PSTR   \n",
      "5            1       EV  [00:00, 20:00]       FAC   \n",
      "\n",
      "                                          play_description  \\\n",
      "play_id                                                      \n",
      "1                                                            \n",
      "2                                                            \n",
      "3                                                            \n",
      "4                       Period Start- Local time: 7:43 EDT   \n",
      "5        PIT won Neu. Zone - PIT #77 CARTER vs TBL #21 ...   \n",
      "\n",
      "                                       visit_player_on_ice  \\\n",
      "play_id                                                      \n",
      "1                                                       {}   \n",
      "2                                                       {}   \n",
      "3                                                       {}   \n",
      "4        {'C': '77', 'R': '17', 'L': '43', 'D1': '8', '...   \n",
      "5        {'C': '77', 'R': '17', 'L': '43', 'D1': '8', '...   \n",
      "\n",
      "                                        home_player_on_ice  \\\n",
      "play_id                                                      \n",
      "1                                                       {}   \n",
      "2                                                       {}   \n",
      "3                                                       {}   \n",
      "4        {'C': '21', 'R': '86', 'L': '18', 'D1': '27', ...   \n",
      "5        {'C': '21', 'R': '86', 'L': '18', 'D1': '27', ...   \n",
      "\n",
      "                                                player_one  \\\n",
      "play_id                                                      \n",
      "1                                                            \n",
      "2                                                            \n",
      "3                                                     None   \n",
      "4                                                            \n",
      "5        {'player': {'id': 8470604, 'fullName': 'Jeff C...   \n",
      "\n",
      "                                                player_two player_three  \\\n",
      "play_id                                                                   \n",
      "1                                                                         \n",
      "2                                                                         \n",
      "3                                                     None         None   \n",
      "4                                                                         \n",
      "5        {'player': {'id': 8478010, 'fullName': 'Brayde...                \n",
      "\n",
      "        player_four             date_time           coordinates  \n",
      "play_id                                                          \n",
      "1                    2021-10-12T22:45:48Z                    {}  \n",
      "2                    2021-10-12T23:41:26Z                    {}  \n",
      "3              None                  None                  None  \n",
      "4                    2021-10-12T23:44:06Z                    {}  \n",
      "5                    2021-10-12T23:44:06Z  {'x': 0.0, 'y': 0.0}  \n"
     ]
    }
   ],
   "source": [
    "print(game_df.head())"
   ]
  }
 ],
 "metadata": {
  "interpreter": {
   "hash": "1cee51e8e91f1562605b58df2bf41ba16abb6842e83938e5544e083ce9e7fa26"
  },
  "kernelspec": {
   "display_name": "Python 3.10.0 64-bit",
   "name": "python3"
  },
  "language_info": {
   "codemirror_mode": {
    "name": "ipython",
    "version": 3
   },
   "file_extension": ".py",
   "mimetype": "text/x-python",
   "name": "python",
   "nbconvert_exporter": "python",
   "pygments_lexer": "ipython3",
   "version": "3.10.0"
  },
  "orig_nbformat": 4
 },
 "nbformat": 4,
 "nbformat_minor": 2
}
