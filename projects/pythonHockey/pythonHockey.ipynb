{
 "cells": [
  {
   "cell_type": "markdown",
   "metadata": {},
   "source": [
    "<h1><center>NHL DATA SCRAPE AND VISUALIZATION</center></h1>\n",
    "<h2><center>A Learning Project</center></h2>"
   ]
  },
  {
   "cell_type": "markdown",
   "metadata": {},
   "source": [
    "The following is an attempt to learn pandas, numpy, and beautifulsoup in order to create a repository of data scrapped from the web, clean it, and then process it to draw and test assumptions against that data. This will utilize the NHL API along with the NHL Play by Play sheet. One of the reasons to use a Jupyter Notebook is to avoid multiple calls to the mentioned websites but still continue to work with the data they provide."
   ]
  },
  {
   "cell_type": "markdown",
   "metadata": {},
   "source": [
    "First we import the required python libraries. \n",
    "- BeautifulSoup will allow us to manipulate the html files from the NHL Play by Play \n",
    "- NHLget is a self made module which accesses the NHL API and the NHL Play by Play pages. It has three functions: One to return a list of games played during the provided time period (NHL API). One to return game information about a specific game (NHL API), and the third to provide play by play information (NHL Play by Play)."
   ]
  },
  {
   "cell_type": "code",
   "execution_count": 1,
   "metadata": {},
   "outputs": [],
   "source": [
    "import NHLget\n",
    "from copy import deepcopy"
   ]
  },
  {
   "cell_type": "code",
   "execution_count": 2,
   "metadata": {},
   "outputs": [],
   "source": [
    "all_plays = NHLget.get_player_on_ice_info('2021020001')"
   ]
  },
  {
   "cell_type": "code",
   "execution_count": 3,
   "metadata": {},
   "outputs": [],
   "source": [
    "game_json = NHLget.get_game_info('2021020001')"
   ]
  },
  {
   "cell_type": "code",
   "execution_count": 4,
   "metadata": {},
   "outputs": [],
   "source": [
    "plays = game_json['liveData']['plays']['allPlays']\n",
    "\n",
    "play_id_dict = {'GAME_SCHEDULED': 'PGSTR', 'PERIOD_READY': 'PGEND', \n",
    "'PERIOD_START': 'PSTR', 'FACEOFF': 'FAC', 'HIT': 'HIT', 'STOP': 'STOP', \n",
    "'SHOT': 'SHOT', 'TAKEAWAY': 'TAKE', 'BLOCKED_SHOT': 'BLOCK', \n",
    "'MISSED_SHOT': 'MISS', 'GIVEAWAY': 'GIVE', 'PERIOD_END': 'PEND', \n",
    "'PERIOD_OFFICIAL': '', \n",
    "  'GOAL': 'GOAL', \n",
    "  'PENALTY': 'PENL', \n",
    "  'GAME_END': 'GEND', \n",
    "  'GAME_OFFICIAL': ''}\n"
   ]
  },
  {
   "cell_type": "code",
   "execution_count": 5,
   "metadata": {},
   "outputs": [
    {
     "name": "stdout",
     "output_type": "stream",
     "text": [
      "['6', '1', 'EV', ['0:18', '19:42'], 'HIT', 'TBL #18 PALAT HIT PIT #77 CARTER, Off. Zone', {'C': '77', 'R': '17', 'L': '43', 'D1': '8', 'D2': '58', 'G': '35'}, {'C': '21', 'R': '86', 'L': '18', 'D1': '27', 'D2': '81', 'G': '88'}]\n",
      "['6', '1', 'EV', ['00:18', '19:42'], 'HIT', 'TBL #18 PALAT HIT PIT #77 CARTER, Off. Zone', {'C': '77', 'R': '17', 'L': '43', 'D1': '8', 'D2': '58', 'G': '35'}, {'C': '21', 'R': '86', 'L': '18', 'D1': '27', 'D2': '81', 'G': '88'}, {'player': {'id': 8476292, 'fullName': 'Ondrej Palat', 'link': '/api/v1/people/8476292'}, 'playerType': 'Hitter'}, {'player': {'id': 8470604, 'fullName': 'Jeff Carter', 'link': '/api/v1/people/8470604'}, 'playerType': 'Hittee'}, '2021-10-12T23:44:24Z', {'x': 46.0, 'y': 40.0}]\n"
     ]
    }
   ],
   "source": [
    "# playId, period, strength, [Time Elapsed, Time Remaining], Event, Description, Away Team Players on Ice, Home Team Players on Ice, players involved, dateTime, coordinates\n",
    "updated_plays = deepcopy(all_plays)\n",
    "track_i = 0\n",
    "for mainPlay in updated_plays:\n",
    "  if mainPlay[0] == '#':\n",
    "    continue\n",
    "  if mainPlay[3][0][0:2] == '0:':\n",
    "    mainPlay[3][0] = '00:' + mainPlay[3][0][-2:]\n",
    "  for ind in range(track_i, len(plays)):\n",
    "    if all([\n",
    "        play_id_dict[plays[ind]['result']['eventTypeId']] == mainPlay[4],\n",
    "        plays[ind]['about']['period'] == int(mainPlay[1]),\n",
    "        plays[ind]['about']['periodTime'] == mainPlay[3][0]\n",
    "    ]):\n",
    "      if 'players' in plays[ind]:\n",
    "        mainPlay.append(plays[ind]['players'][0])\n",
    "        if len(plays[ind]['players']) > 1:\n",
    "          mainPlay.append(plays[ind]['players'][1])\n",
    "        if len(plays[ind]['players']) > 2:\n",
    "          mainPlay.append(plays[ind]['players'][2])\n",
    "        if len(plays[ind]['players']) > 3:\n",
    "          mainPlay.append(plays[ind]['players'][3])\n",
    "      mainPlay.append(plays[ind]['about']['dateTime'])\n",
    "      mainPlay.append(plays[ind]['coordinates'])\n",
    "      track_i = ind + 1\n",
    "\n",
    "print(all_plays[6])\n",
    "print(updated_plays[6])"
   ]
  }
 ],
 "metadata": {
  "interpreter": {
   "hash": "b89b5cfaba6639976dc87ff2fec6d58faec662063367e2c229c520fe71072417"
  },
  "kernelspec": {
   "display_name": "Python 3.10.0 64-bit",
   "name": "python3"
  },
  "language_info": {
   "codemirror_mode": {
    "name": "ipython",
    "version": 3
   },
   "file_extension": ".py",
   "mimetype": "text/x-python",
   "name": "python",
   "nbconvert_exporter": "python",
   "pygments_lexer": "ipython3",
   "version": "3.10.0"
  },
  "orig_nbformat": 4
 },
 "nbformat": 4,
 "nbformat_minor": 2
}
