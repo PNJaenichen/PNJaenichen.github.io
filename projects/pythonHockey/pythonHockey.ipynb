{
 "cells": [
  {
   "cell_type": "markdown",
   "metadata": {},
   "source": [
    "<h1><center>NHL DATA SCRAPE AND VISUALIZATION</center></h1>\n",
    "<h2><center>A Learning Project</center></h2>"
   ]
  },
  {
   "cell_type": "markdown",
   "metadata": {},
   "source": [
    "The following is an attempt to learn pandas, numpy, and beautifulsoup in order to create a repository of data scrapped from the web, clean it, and then process it to draw and test assumptions against that data. This will utilize the NHL API along with the NHL Play by Play sheet. One of the reasons to use a Jupyter Notebook is to avoid multiple calls to the mentioned websites but still continue to work with the data they provide."
   ]
  },
  {
   "cell_type": "markdown",
   "metadata": {},
   "source": [
    "First we import the required python libraries. \n",
    "- BeautifulSoup will allow us to manipulate the html files from the NHL Play by Play \n",
    "- NHLget is a self made module which accesses the NHL API and the NHL Play by Play pages. It has three functions: One to return a list of games played during the provided time period (NHL API). One to return game information about a specific game (NHL API), and the third to provide play by play information (NHL Play by Play)."
   ]
  },
  {
   "cell_type": "code",
   "execution_count": 1,
   "metadata": {},
   "outputs": [],
   "source": [
    "import NHLget"
   ]
  },
  {
   "cell_type": "code",
   "execution_count": 2,
   "metadata": {},
   "outputs": [],
   "source": [
    "soup = NHLget.get_player_on_ice_info('2021020001')"
   ]
  },
  {
   "cell_type": "code",
   "execution_count": 3,
   "metadata": {},
   "outputs": [
    {
     "ename": "TypeError",
     "evalue": "unsupported operand type(s) for &: 'str' and 'bool'",
     "output_type": "error",
     "traceback": [
      "\u001b[1;31m---------------------------------------------------------------------------\u001b[0m",
      "\u001b[1;31mTypeError\u001b[0m                                 Traceback (most recent call last)",
      "\u001b[1;32m~\\AppData\\Local\\Temp/ipykernel_8320/2222340341.py\u001b[0m in \u001b[0;36m<module>\u001b[1;34m\u001b[0m\n\u001b[0;32m      1\u001b[0m \u001b[0mpages\u001b[0m \u001b[1;33m=\u001b[0m \u001b[0msoup\u001b[0m\u001b[1;33m.\u001b[0m\u001b[0mselect\u001b[0m\u001b[1;33m(\u001b[0m\u001b[1;34m'.page'\u001b[0m\u001b[1;33m)\u001b[0m\u001b[1;33m\u001b[0m\u001b[1;33m\u001b[0m\u001b[0m\n\u001b[0;32m      2\u001b[0m \u001b[1;33m\u001b[0m\u001b[0m\n\u001b[1;32m----> 3\u001b[1;33m \u001b[0mall_plays\u001b[0m \u001b[1;33m=\u001b[0m \u001b[0mNHLget\u001b[0m\u001b[1;33m.\u001b[0m\u001b[0mclean_play_by_play\u001b[0m\u001b[1;33m(\u001b[0m\u001b[0mpages\u001b[0m\u001b[1;33m)\u001b[0m\u001b[1;33m\u001b[0m\u001b[1;33m\u001b[0m\u001b[0m\n\u001b[0m",
      "\u001b[1;32mc:\\Users\\PNJae\\Dropbox\\website\\PNJaenichen.github.io\\projects\\pythonHockey\\NHLget.py\u001b[0m in \u001b[0;36mclean_play_by_play\u001b[1;34m(pages)\u001b[0m\n\u001b[0;32m     98\u001b[0m       \u001b[1;32mif\u001b[0m \u001b[1;34m'Ice'\u001b[0m \u001b[1;32mnot\u001b[0m \u001b[1;32min\u001b[0m \u001b[0mplay\u001b[0m\u001b[1;33m[\u001b[0m\u001b[1;36m6\u001b[0m\u001b[1;33m]\u001b[0m\u001b[1;33m:\u001b[0m\u001b[1;33m\u001b[0m\u001b[1;33m\u001b[0m\u001b[0m\n\u001b[0;32m     99\u001b[0m         \u001b[1;32mfor\u001b[0m \u001b[0mplayer\u001b[0m \u001b[1;32min\u001b[0m \u001b[0mplay\u001b[0m\u001b[1;33m[\u001b[0m\u001b[1;36m6\u001b[0m\u001b[1;33m]\u001b[0m\u001b[1;33m.\u001b[0m\u001b[0msplit\u001b[0m\u001b[1;33m(\u001b[0m\u001b[1;33m)\u001b[0m\u001b[1;33m:\u001b[0m\u001b[1;33m\u001b[0m\u001b[1;33m\u001b[0m\u001b[0m\n\u001b[1;32m--> 100\u001b[1;33m           \u001b[1;32mif\u001b[0m \u001b[0mplayer\u001b[0m\u001b[1;33m[\u001b[0m\u001b[1;33m-\u001b[0m\u001b[1;36m1\u001b[0m\u001b[1;33m]\u001b[0m \u001b[1;33m==\u001b[0m \u001b[1;34m'D'\u001b[0m \u001b[1;33m&\u001b[0m \u001b[1;33m(\u001b[0m\u001b[1;34m'D1'\u001b[0m \u001b[1;32min\u001b[0m \u001b[0mhomePlayers\u001b[0m\u001b[1;33m)\u001b[0m\u001b[1;33m:\u001b[0m\u001b[1;33m\u001b[0m\u001b[1;33m\u001b[0m\u001b[0m\n\u001b[0m\u001b[0;32m    101\u001b[0m             \u001b[0mhomePlayers\u001b[0m\u001b[1;33m[\u001b[0m\u001b[1;34m'D2'\u001b[0m\u001b[1;33m]\u001b[0m \u001b[1;33m=\u001b[0m \u001b[0mplayer\u001b[0m\u001b[1;33m[\u001b[0m\u001b[1;33m:\u001b[0m\u001b[1;33m-\u001b[0m\u001b[1;36m1\u001b[0m\u001b[1;33m]\u001b[0m\u001b[1;33m\u001b[0m\u001b[1;33m\u001b[0m\u001b[0m\n\u001b[0;32m    102\u001b[0m           \u001b[1;32melif\u001b[0m \u001b[0mplayer\u001b[0m\u001b[1;33m[\u001b[0m\u001b[1;33m-\u001b[0m\u001b[1;36m1\u001b[0m\u001b[1;33m]\u001b[0m \u001b[1;33m==\u001b[0m \u001b[1;34m'D'\u001b[0m\u001b[1;33m:\u001b[0m\u001b[1;33m\u001b[0m\u001b[1;33m\u001b[0m\u001b[0m\n",
      "\u001b[1;31mTypeError\u001b[0m: unsupported operand type(s) for &: 'str' and 'bool'"
     ]
    }
   ],
   "source": [
    "pages = soup.select('.page')\n",
    "\n",
    "all_plays = NHLget.clean_play_by_play(pages)"
   ]
  },
  {
   "cell_type": "code",
   "execution_count": null,
   "metadata": {},
   "outputs": [],
   "source": [
    "game_json = NHLget.get_game_info('2021020001')"
   ]
  },
  {
   "cell_type": "code",
   "execution_count": null,
   "metadata": {},
   "outputs": [],
   "source": [
    "plays = game_json['liveData']['plays']['allPlays']\n",
    "\n",
    "play_id_dict = {'GAME_SCHEDULED': 'PGSTR', 'PERIOD_READY': 'PGEND', \n",
    "'PERIOD_START': 'PSTR', 'FACEOFF': 'FAC', 'HIT': 'HIT', 'STOP': 'STOP', \n",
    "'SHOT': 'SHOT', 'TAKEAWAY': 'TAKE', 'BLOCKED_SHOT': 'BLOCK', \n",
    "'MISSED_SHOT': 'MISS', 'GIVEAWAY': 'GIVE', 'PERIOD_END': 'PEND', \n",
    "'PERIOD_OFFICIAL': '', \n",
    "  'GOAL': 'GOAL', \n",
    "  'PENALTY': 'PENL', \n",
    "  'GAME_END': 'GEND', \n",
    "  'GAME_OFFICIAL': ''}\n"
   ]
  },
  {
   "cell_type": "code",
   "execution_count": null,
   "metadata": {},
   "outputs": [
    {
     "name": "stdout",
     "output_type": "stream",
     "text": [
      "['5', '1', 'EV', ['0:00', '20:00'], 'FAC', 'PIT won Neu. Zone - PIT #77 CARTER vs TBL #21 POINT', {'C': '77', 'R': '17', 'L': '43', 'D1': '58', 'G': '35'}, {'C': '21', 'R': '86', 'L': '18', 'D1': '81', 'G': '88'}]\n",
      "{'players': [{'player': {'id': 8476292, 'fullName': 'Ondrej Palat', 'link': '/api/v1/people/8476292'}, 'playerType': 'Hitter'}, {'player': {'id': 8470604, 'fullName': 'Jeff Carter', 'link': '/api/v1/people/8470604'}, 'playerType': 'Hittee'}], 'result': {'event': 'Hit', 'eventCode': 'TBL8', 'eventTypeId': 'HIT', 'description': 'Ondrej Palat hit Jeff Carter'}, 'about': {'eventIdx': 4, 'eventId': 8, 'period': 1, 'periodType': 'REGULAR', 'ordinalNum': '1st', 'periodTime': '00:18', 'periodTimeRemaining': '19:42', 'dateTime': '2021-10-12T23:44:24Z', 'goals': {'away': 0, 'home': 0}}, 'coordinates': {'x': 46.0, 'y': 40.0}, 'team': {'id': 14, 'name': 'Tampa Bay Lightning', 'link': '/api/v1/teams/14', 'triCode': 'TBL'}}\n",
      "GAME_SCHEDULED PGSTR 1 00:00\n",
      "PERIOD_READY PGEND 1 00:00\n",
      "PERIOD_START PSTR 1 00:00\n",
      "FACEOFF FAC 1 00:00\n",
      "HIT HIT 1 00:18\n"
     ]
    }
   ],
   "source": [
    "test_API_plays = plays[:5]\n",
    "test_PxP_plays = all_plays[:6]\n",
    "\n",
    "print(all_plays[5])\n",
    "print(plays[4])\n",
    "\n",
    "# playId, period, strength, [Time Elapsed, Time Remaining], Event, Description, Away Team Players on Ice, Home Team Players on Ice, players involved, dateTime, coordinates\n",
    "\n",
    "for play in test_API_plays:\n",
    "  print(play['result']['eventTypeId'], play_id_dict[play['result']['eventTypeId']], play['about']['period'], play['about']['periodTime'])\n",
    "\n",
    "\n",
    "\n",
    "\n"
   ]
  }
 ],
 "metadata": {
  "interpreter": {
   "hash": "b6673b262a7d29c79597d819f36d32fd11e60f7609d2f6dc9cb7d01d53349877"
  },
  "kernelspec": {
   "display_name": "Python 3.9.6 64-bit ('venv': venv)",
   "name": "python3"
  },
  "language_info": {
   "codemirror_mode": {
    "name": "ipython",
    "version": 3
   },
   "file_extension": ".py",
   "mimetype": "text/x-python",
   "name": "python",
   "nbconvert_exporter": "python",
   "pygments_lexer": "ipython3",
   "version": "3.9.6"
  },
  "orig_nbformat": 4
 },
 "nbformat": 4,
 "nbformat_minor": 2
}
