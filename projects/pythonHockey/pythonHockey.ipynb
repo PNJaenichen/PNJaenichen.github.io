{
 "cells": [
  {
   "cell_type": "markdown",
   "metadata": {},
   "source": [
    "<h1><center>NHL DATA SCRAPE AND VISUALIZATION</center></h1>\n",
    "<h2><center>A Learning Project</center></h2>"
   ]
  },
  {
   "cell_type": "markdown",
   "metadata": {},
   "source": [
    "The following is an attempt to learn pandas, numpy, and beautifulsoup in order to create a repository of data scrapped from the web, clean it, and then process it to draw and test assumptions against that data. This will utilize the NHL API along with the NHL Play by Play sheet. One of the reasons to use a Jupyter Notebook is to avoid multiple calls to the mentioned websites but still continue to work with the data they provide."
   ]
  },
  {
   "cell_type": "markdown",
   "metadata": {},
   "source": [
    "First we import the required python libraries. \n",
    "- NHLget is a self made module which accesses the NHL API and the NHL Play by Play pages. It has five functions, three are internal to the module and the other two can be accessed. One of the outward facing functions returns a list of gameIDs for a provided time period. The other returns play information for a speific game. The three inner functions work with the later. One gets the game information from the NHL API, the second gets additional game information from the NHL Game Report, and the final one combines those two and then returns the game information.\n",
    "- Pandas module will be used to conduct the data analysis.\n",
    "- Matplotlib will be used for data visualization.\n",
    "\n",
    "In order to maximize the 'print screen' within the notebook, we use the set option to expand the frame to False. According to the Pandas documentation: \"Whether to print out the full DataFrame repr for wide DataFrames across multiple lines, max_columns is still respected, but the output will wrap-around across multiple “pages” if its width exceeds display.width. [default: True] [currently: True]\""
   ]
  },
  {
   "cell_type": "code",
   "execution_count": 11,
   "metadata": {},
   "outputs": [],
   "source": [
    "import NHLget\n",
    "import pandas as pd\n",
    "import matplotlib.pyplot as plt \n",
    "from datetime import datetime\n",
    "\n",
    "pd.set_option('display.expand_frame_repr', False)"
   ]
  },
  {
   "cell_type": "markdown",
   "metadata": {},
   "source": [
    "Next, we're going to use the get_player_on_ice_info from the NHLget library to gather the play information from the NHL API and NHL Play by Play for one game: #2021020001. For the game ID, the first four digits are the year the season starts, the next two digits denote which part of the season. The preseason is 01 and the regular season is 02. The first digit of the playoffs denotes the round, and the second digit is 3. The All Star Game is 04. The final four digits are the game number. With 32 teams playing 82 games (41 at home and 41 away) there are a total of 1312 games."
   ]
  },
  {
   "cell_type": "code",
   "execution_count": 2,
   "metadata": {},
   "outputs": [],
   "source": [
    "all_plays = NHLget.get_player_on_ice_info('2021020001')"
   ]
  },
  {
   "cell_type": "markdown",
   "metadata": {},
   "source": [
    "The function returns a list of lists. Each list is the information for a play from the game. Collectively they will be turned into a pandas dataframe. Each play has the following information in this order: The play ID, the period, player strength, time elapsed in the period, time remaining in the period, the play code, play description, the visiting players on the ice, the home players on the ice, 1-4 players involved in the play, the date-time of the play, and the coordinates on the ice.\n",
    "\n",
    "The play codes are ... \n",
    "- PGSTR for the pregame start\n",
    "- PGEND for the pregame end\n",
    "- PSTR for the period start\n",
    "- PEND for the period end\n",
    "- GEND for the game end\n",
    "- FAC for a faceoff\n",
    "- HIT for a hit\n",
    "- STOP for a play stoppage\n",
    "- SHOT for a shot on goal\n",
    "- MISS for a missed shot\n",
    "- GOAL for a goal\n",
    "- TAKE for a takeaway\n",
    "- GIVE for a giveaway\n",
    "- BLOCK for a blocked shot\n",
    "- PENL for a penalty\n",
    "\n",
    "Pandas will create an index, so we are going to set the play_id as the index for the dataframe."
   ]
  },
  {
   "cell_type": "code",
   "execution_count": 3,
   "metadata": {},
   "outputs": [],
   "source": [
    "column_names = [\n",
    "  'play_id', \n",
    "  'period', \n",
    "  'strength', \n",
    "  'period_time',\n",
    "  'remain_time', \n",
    "  'play_code', \n",
    "  'play_description', \n",
    "  'visit_player_on_ice', \n",
    "  'home_player_on_ice', \n",
    "  'player_one', \n",
    "  'player_two', \n",
    "  'player_three', \n",
    "  'player_four', \n",
    "  'date_time', \n",
    "  'coordinates'\n",
    "]\n",
    "\n",
    "game_df = pd.DataFrame(all_plays, columns = column_names)\n",
    "game_df.set_index('play_id', inplace = True)"
   ]
  },
  {
   "cell_type": "markdown",
   "metadata": {},
   "source": [
    "With the play information gathered, the dataframe created, it is now time to start exploring the data. \n",
    "\n",
    "First, we'll use the `info()` method which will give us the shape (columns and rows) of the dataframe, it will provide us with how many null items are in each column, and what the datatype for each column is."
   ]
  },
  {
   "cell_type": "code",
   "execution_count": 4,
   "metadata": {},
   "outputs": [
    {
     "name": "stdout",
     "output_type": "stream",
     "text": [
      "<class 'pandas.core.frame.DataFrame'>\n",
      "Index: 324 entries, 1 to 324\n",
      "Data columns (total 14 columns):\n",
      " #   Column               Non-Null Count  Dtype \n",
      "---  ------               --------------  ----- \n",
      " 0   period               324 non-null    object\n",
      " 1   strength             324 non-null    object\n",
      " 2   period_time          324 non-null    object\n",
      " 3   remain_time          324 non-null    object\n",
      " 4   play_code            324 non-null    object\n",
      " 5   play_description     324 non-null    object\n",
      " 6   visit_player_on_ice  324 non-null    object\n",
      " 7   home_player_on_ice   324 non-null    object\n",
      " 8   player_one           169 non-null    object\n",
      " 9   player_two           169 non-null    object\n",
      " 10  player_three         169 non-null    object\n",
      " 11  player_four          169 non-null    object\n",
      " 12  date_time            169 non-null    object\n",
      " 13  coordinates          169 non-null    object\n",
      "dtypes: object(14)\n",
      "memory usage: 38.0+ KB\n",
      "None\n"
     ]
    }
   ],
   "source": [
    "print(game_df.info())"
   ]
  },
  {
   "cell_type": "markdown",
   "metadata": {},
   "source": [
    "Everything is an object, which could be the case. However, we need to look closer at the data to ensure that it's correct and to make adjustments as we need.\n",
    "\n",
    "We can look to see what the different elements look like using the `head()` function."
   ]
  },
  {
   "cell_type": "code",
   "execution_count": 12,
   "metadata": {},
   "outputs": [
    {
     "name": "stdout",
     "output_type": "stream",
     "text": [
      "        period strength period_time remain_time play_code                                   play_description                                visit_player_on_ice                                 home_player_on_ice   player_one     player_two player_three player_four             date_time           coordinates\n",
      "play_id                                                                                                                                                                                                                                                                                                            \n",
      "1            1                00:00       20:00     PGSTR                                                                                                    {}                                                 {}                                                       2021-10-12T22:45:48Z                    {}\n",
      "2            1                00:00       20:00     PGEND                                                                                                    {}                                                 {}                                                       2021-10-12T23:41:26Z                    {}\n",
      "3            1                00:00       20:00    ANTHEM                                                                                                    {}                                                 {}         None           None         None        None                  None                  None\n",
      "4            1                00:00       20:00      PSTR                 Period Start- Local time: 7:43 EDT  {'C': '77', 'R': '17', 'L': '43', 'D1': '8', '...  {'C': '21', 'R': '86', 'L': '18', 'D1': '27', ...                                                       2021-10-12T23:44:06Z                    {}\n",
      "5            1       EV       00:00       20:00       FAC  PIT won Neu. Zone - PIT #77 CARTER vs TBL #21 ...  {'C': '77', 'R': '17', 'L': '43', 'D1': '8', '...  {'C': '21', 'R': '86', 'L': '18', 'D1': '27', ...  Jeff Carter  Brayden Point                           2021-10-12T23:44:06Z  {'x': 0.0, 'y': 0.0}\n"
     ]
    }
   ],
   "source": [
    "print(game_df.head())"
   ]
  },
  {
   "cell_type": "markdown",
   "metadata": {},
   "source": [
    "The columns 'period_time' and 'remain_time' are redundant and one can be removed. "
   ]
  },
  {
   "cell_type": "code",
   "execution_count": 5,
   "metadata": {},
   "outputs": [
    {
     "data": {
      "text/html": [
       "<div>\n",
       "<style scoped>\n",
       "    .dataframe tbody tr th:only-of-type {\n",
       "        vertical-align: middle;\n",
       "    }\n",
       "\n",
       "    .dataframe tbody tr th {\n",
       "        vertical-align: top;\n",
       "    }\n",
       "\n",
       "    .dataframe thead th {\n",
       "        text-align: right;\n",
       "    }\n",
       "</style>\n",
       "<table border=\"1\" class=\"dataframe\">\n",
       "  <thead>\n",
       "    <tr style=\"text-align: right;\">\n",
       "      <th></th>\n",
       "      <th>period</th>\n",
       "      <th>strength</th>\n",
       "      <th>period_time</th>\n",
       "      <th>remain_time</th>\n",
       "      <th>play_code</th>\n",
       "      <th>play_description</th>\n",
       "      <th>visit_player_on_ice</th>\n",
       "      <th>home_player_on_ice</th>\n",
       "      <th>player_one</th>\n",
       "      <th>player_two</th>\n",
       "      <th>player_three</th>\n",
       "      <th>player_four</th>\n",
       "      <th>date_time</th>\n",
       "      <th>coordinates</th>\n",
       "    </tr>\n",
       "  </thead>\n",
       "  <tbody>\n",
       "    <tr>\n",
       "      <th>count</th>\n",
       "      <td>324</td>\n",
       "      <td>324</td>\n",
       "      <td>324</td>\n",
       "      <td>324</td>\n",
       "      <td>324</td>\n",
       "      <td>324</td>\n",
       "      <td>324</td>\n",
       "      <td>324</td>\n",
       "      <td>169</td>\n",
       "      <td>169</td>\n",
       "      <td>169</td>\n",
       "      <td>169</td>\n",
       "      <td>169</td>\n",
       "      <td>169</td>\n",
       "    </tr>\n",
       "    <tr>\n",
       "      <th>unique</th>\n",
       "      <td>3</td>\n",
       "      <td>4</td>\n",
       "      <td>216</td>\n",
       "      <td>216</td>\n",
       "      <td>16</td>\n",
       "      <td>261</td>\n",
       "      <td>40</td>\n",
       "      <td>62</td>\n",
       "      <td>35</td>\n",
       "      <td>33</td>\n",
       "      <td>5</td>\n",
       "      <td>3</td>\n",
       "      <td>166</td>\n",
       "      <td>105</td>\n",
       "    </tr>\n",
       "    <tr>\n",
       "      <th>top</th>\n",
       "      <td>1</td>\n",
       "      <td>EV</td>\n",
       "      <td>00:00</td>\n",
       "      <td>20:00</td>\n",
       "      <td>FAC</td>\n",
       "      <td>ICING</td>\n",
       "      <td>{'C': '77', 'R': '17', 'L': '43', 'D1': '8', '...</td>\n",
       "      <td>{'C': '21', 'R': '86', 'L': '18', 'D1': '27', ...</td>\n",
       "      <td></td>\n",
       "      <td></td>\n",
       "      <td></td>\n",
       "      <td></td>\n",
       "      <td>2021-10-12T23:44:06Z</td>\n",
       "      <td>{}</td>\n",
       "    </tr>\n",
       "    <tr>\n",
       "      <th>freq</th>\n",
       "      <td>119</td>\n",
       "      <td>248</td>\n",
       "      <td>9</td>\n",
       "      <td>9</td>\n",
       "      <td>69</td>\n",
       "      <td>15</td>\n",
       "      <td>55</td>\n",
       "      <td>29</td>\n",
       "      <td>31</td>\n",
       "      <td>41</td>\n",
       "      <td>165</td>\n",
       "      <td>166</td>\n",
       "      <td>2</td>\n",
       "      <td>31</td>\n",
       "    </tr>\n",
       "  </tbody>\n",
       "</table>\n",
       "</div>"
      ],
      "text/plain": [
       "       period strength period_time remain_time play_code play_description  \\\n",
       "count     324      324         324         324       324              324   \n",
       "unique      3        4         216         216        16              261   \n",
       "top         1       EV       00:00       20:00       FAC            ICING   \n",
       "freq      119      248           9           9        69               15   \n",
       "\n",
       "                                      visit_player_on_ice  \\\n",
       "count                                                 324   \n",
       "unique                                                 40   \n",
       "top     {'C': '77', 'R': '17', 'L': '43', 'D1': '8', '...   \n",
       "freq                                                   55   \n",
       "\n",
       "                                       home_player_on_ice player_one  \\\n",
       "count                                                 324        169   \n",
       "unique                                                 62         35   \n",
       "top     {'C': '21', 'R': '86', 'L': '18', 'D1': '27', ...              \n",
       "freq                                                   29         31   \n",
       "\n",
       "       player_two player_three player_four             date_time coordinates  \n",
       "count         169          169         169                   169         169  \n",
       "unique         33            5           3                   166         105  \n",
       "top                                         2021-10-12T23:44:06Z          {}  \n",
       "freq           41          165         166                     2          31  "
      ]
     },
     "execution_count": 5,
     "metadata": {},
     "output_type": "execute_result"
    }
   ],
   "source": [
    "game_df.describe(include='all')"
   ]
  },
  {
   "cell_type": "markdown",
   "metadata": {},
   "source": [
    "Looks like there are 16 unique play types, and Faceoffs occur most often. If we review above, there were only 15 plays mentioned, so why is there 16. Let's take a closer look at different values within 'play_code' and their counts."
   ]
  },
  {
   "cell_type": "code",
   "execution_count": 6,
   "metadata": {},
   "outputs": [
    {
     "name": "stdout",
     "output_type": "stream",
     "text": [
      "FAC       69\n",
      "HIT       59\n",
      "STOP      56\n",
      "SHOT      55\n",
      "BLOCK     26\n",
      "MISS      24\n",
      "TAKE       8\n",
      "GOAL       8\n",
      "GIVE       7\n",
      "PSTR       3\n",
      "PEND       3\n",
      "PENL       2\n",
      "PGSTR      1\n",
      "PGEND      1\n",
      "ANTHEM     1\n",
      "GEND       1\n",
      "Name: play_code, dtype: int64\n"
     ]
    }
   ],
   "source": [
    "print(game_df['play_code'].value_counts())"
   ]
  },
  {
   "cell_type": "markdown",
   "metadata": {},
   "source": [
    "It appears that we left off ANTHEM from our list of plays. It also makes sense that the Pregame starting (PGSTR), pregame ending (PGEND), the anthem (ANTHEM), and the game ending (GEND) all only happen once. It also makes sense that in a game that ends in regulation time that there are only three period start (PSTR) and period end (PEND) plays.\n",
    "\n",
    "From the list, we see that hits (HIT), stoppages (STOPS), and shots (SHOT) occur relatively equally not far behind faceoffs. This is followed by blocked shots (BLOCK) and missed shots (MISS). Takeaways (TAKE) and Giveaways (GIVE) were fairly equal. Finally, there were eight goals scored in this game and only 2 penalties called."
   ]
  },
  {
   "cell_type": "markdown",
   "metadata": {},
   "source": [
    "Let's see if we can find the average length it took for each period. First let's look at the 'date_time' entries for all the Period Start and Period End rows."
   ]
  },
  {
   "cell_type": "code",
   "execution_count": 7,
   "metadata": {},
   "outputs": [
    {
     "name": "stdout",
     "output_type": "stream",
     "text": [
      "play_id\n",
      "4      2021-10-12T23:44:06Z\n",
      "119    2021-10-13T00:21:07Z\n",
      "120    2021-10-13T00:40:21Z\n",
      "212    2021-10-13T01:16:55Z\n",
      "213    2021-10-13T01:35:37Z\n",
      "323    2021-10-13T02:17:04Z\n",
      "Name: date_time, dtype: object\n"
     ]
    }
   ],
   "source": [
    "print(game_df[(game_df['play_code'] == 'PSTR') | (game_df['play_code'] == 'PEND')]['date_time'])"
   ]
  },
  {
   "cell_type": "markdown",
   "metadata": {},
   "source": [
    "It appears to be in the following format YYYY-MM-DDTHH:MM:SSZ where T is for Time and Z is for the timezone. We can start by seperating all the elements into their own columns."
   ]
  },
  {
   "cell_type": "code",
   "execution_count": 8,
   "metadata": {},
   "outputs": [
    {
     "name": "stdout",
     "output_type": "stream",
     "text": [
      "2021-10-13 01:35:37-04:00\n",
      "2021-10-13 02:17:13-04:00\n",
      "0:41:36\n"
     ]
    }
   ],
   "source": [
    "\n",
    "third_end = datetime.strptime(game_df.iloc[323]['date_time'].replace('Z', '-0400'), '%Y-%m-%dT%H:%M:%S%z')\n",
    "third_start = datetime.strptime(game_df.iloc[213]['date_time'].replace('Z', '-0400'), '%Y-%m-%dT%H:%M:%S%z')\n",
    "\n",
    "print(third_start)\n",
    "print(third_end)\n",
    "\n",
    "print(third_end - third_start)"
   ]
  },
  {
   "cell_type": "code",
   "execution_count": 9,
   "metadata": {},
   "outputs": [
    {
     "name": "stdout",
     "output_type": "stream",
     "text": [
      "play_id\n",
      "4      2021-10-12T23:44:06Z\n",
      "119    2021-10-13T00:21:07Z\n",
      "120    2021-10-13T00:40:21Z\n",
      "212    2021-10-13T01:16:55Z\n",
      "213    2021-10-13T01:35:37Z\n",
      "323    2021-10-13T02:17:04Z\n",
      "Name: date_time, dtype: object\n"
     ]
    }
   ],
   "source": [
    "print(game_df[(game_df['play_code'] == 'PSTR') | (game_df['play_code'] == 'PEND')]['date_time'])"
   ]
  }
 ],
 "metadata": {
  "interpreter": {
   "hash": "1cee51e8e91f1562605b58df2bf41ba16abb6842e83938e5544e083ce9e7fa26"
  },
  "kernelspec": {
   "display_name": "Python 3.10.0 64-bit",
   "name": "python3"
  },
  "language_info": {
   "codemirror_mode": {
    "name": "ipython",
    "version": 3
   },
   "file_extension": ".py",
   "mimetype": "text/x-python",
   "name": "python",
   "nbconvert_exporter": "python",
   "pygments_lexer": "ipython3",
   "version": "3.10.0"
  },
  "orig_nbformat": 4
 },
 "nbformat": 4,
 "nbformat_minor": 2
}
