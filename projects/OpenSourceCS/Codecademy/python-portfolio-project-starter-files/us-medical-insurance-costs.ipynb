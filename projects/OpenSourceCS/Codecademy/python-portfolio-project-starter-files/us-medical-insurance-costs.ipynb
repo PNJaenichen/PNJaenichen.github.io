{
 "cells": [
  {
   "cell_type": "markdown",
   "metadata": {},
   "source": [
    "# U.S. Medical Insurance Costs"
   ]
  },
  {
   "cell_type": "markdown",
   "metadata": {},
   "source": [
    "The following is a project from Codecademy in the Data Analyst syllabus. This is the final portion of the learning python prior to learning data mining and analytics."
   ]
  },
  {
   "cell_type": "markdown",
   "metadata": {},
   "source": [
    "The insurance.csv file is comma delimited and has the following seven columns:\n",
    "\n",
    "- age\n",
    "- sex\n",
    "- bmi\n",
    "- children\n",
    "- smoker\n",
    "- region\n",
    "- charges\n",
    "\n",
    "There is no missing data, some columns are numerical (age, bmi, children, charges) while some are categorical (sex, smoker, region)."
   ]
  },
  {
   "cell_type": "markdown",
   "metadata": {},
   "source": [
    "For this project we will look at the following areas:\n",
    "\n",
    "- Average Age of patients\n",
    "- Most represented region\n",
    "- Difference in cost between smokers and non-smokers\n",
    "- Average Age of a patient with at least one child"
   ]
  },
  {
   "cell_type": "code",
   "execution_count": 1,
   "metadata": {},
   "outputs": [],
   "source": [
    "# import required modules\n",
    "import csv"
   ]
  },
  {
   "cell_type": "code",
   "execution_count": 8,
   "metadata": {},
   "outputs": [],
   "source": [
    "# create list to hold each patient record\n",
    "record_data = []\n",
    "\n",
    "# open the insurance.csv and create a dictionary for each record and add\n",
    "# add it to the record_data list\n",
    "with open(\"insurance.csv\") as patient_records:\n",
    "  patient_reader = csv.DictReader(patient_records)\n",
    "  for record in patient_reader:\n",
    "    record_data.append(record)"
   ]
  },
  {
   "cell_type": "markdown",
   "metadata": {},
   "source": [
    "Now that the data has been logged, it is time to build out functions and/or a class in order to perform the analysis that I am ready to do.\n",
    "\n",
    "Starting with Average Age of Patients:"
   ]
  },
  {
   "cell_type": "code",
   "execution_count": 10,
   "metadata": {},
   "outputs": [
    {
     "name": "stdout",
     "output_type": "stream",
     "text": [
      "39.20702541106129\n"
     ]
    }
   ],
   "source": [
    "def average_age(records):\n",
    "  total = 0\n",
    "  for record in records:\n",
    "    total += int(record[\"age\"])\n",
    "  return total / len(records)\n",
    "\n",
    "avg_age = average_age(record_data)\n",
    "\n"
   ]
  },
  {
   "cell_type": "markdown",
   "metadata": {},
   "source": [
    "Next is to find the most represented region:"
   ]
  },
  {
   "cell_type": "code",
   "execution_count": 15,
   "metadata": {},
   "outputs": [
    {
     "name": "stdout",
     "output_type": "stream",
     "text": [
      "('southeast', 364)\n"
     ]
    }
   ],
   "source": [
    "def region_rep(records):\n",
    "  regions = {}\n",
    "  for record in records:\n",
    "    if record[\"region\"] not in regions:\n",
    "      regions[record[\"region\"]] = 1\n",
    "    else:\n",
    "      regions[record[\"region\"]] += 1\n",
    "  max_region = max(regions, key=regions.get)\n",
    "  return (max_region, regions[max_region])\n",
    "\n",
    "max_region = region_rep(record_data)"
   ]
  },
  {
   "cell_type": "markdown",
   "metadata": {},
   "source": [
    "How much more do smokers pay over non-smokers?"
   ]
  },
  {
   "cell_type": "code",
   "execution_count": 20,
   "metadata": {},
   "outputs": [
    {
     "name": "stdout",
     "output_type": "stream",
     "text": [
      "23615.96353367665\n"
     ]
    }
   ],
   "source": [
    "def smoker_diff(records):\n",
    "  smoker_cost = [0, 0]\n",
    "  nosmoker_cost = [0, 0]\n",
    "  for record in records:\n",
    "    if record[\"smoker\"] == \"yes\":\n",
    "      smoker_cost[0] += 1\n",
    "      smoker_cost[1] += float(record[\"charges\"])\n",
    "    elif record[\"smoker\"] == \"no\":\n",
    "      nosmoker_cost[0] += 1\n",
    "      nosmoker_cost[1] += float(record[\"charges\"])\n",
    "  return (smoker_cost[1] / smoker_cost[0]) - (nosmoker_cost[1] / nosmoker_cost[0])\n",
    "\n",
    "print(smoker_diff(record_data))"
   ]
  },
  {
   "cell_type": "markdown",
   "metadata": {},
   "source": [
    "Finally, what is the average age for patients that have at least one child."
   ]
  },
  {
   "cell_type": "code",
   "execution_count": 22,
   "metadata": {},
   "outputs": [
    {
     "name": "stdout",
     "output_type": "stream",
     "text": [
      "39.78010471204188\n"
     ]
    }
   ],
   "source": [
    "def average_age_of_parent(records):\n",
    "  parents = []\n",
    "  for record in records:\n",
    "    if int(record[\"children\"]) > 0:\n",
    "      parents.append(record)\n",
    "  return average_age(parents)\n",
    "\n",
    "print(average_age_of_parent(record_data))"
   ]
  }
 ],
 "metadata": {
  "interpreter": {
   "hash": "63fd5069d213b44bf678585dea6b12cceca9941eaf7f819626cde1f2670de90d"
  },
  "kernelspec": {
   "display_name": "Python 3.9.6 64-bit",
   "name": "python3"
  },
  "language_info": {
   "codemirror_mode": {
    "name": "ipython",
    "version": 3
   },
   "file_extension": ".py",
   "mimetype": "text/x-python",
   "name": "python",
   "nbconvert_exporter": "python",
   "pygments_lexer": "ipython3",
   "version": "3.9.6"
  }
 },
 "nbformat": 4,
 "nbformat_minor": 4
}
