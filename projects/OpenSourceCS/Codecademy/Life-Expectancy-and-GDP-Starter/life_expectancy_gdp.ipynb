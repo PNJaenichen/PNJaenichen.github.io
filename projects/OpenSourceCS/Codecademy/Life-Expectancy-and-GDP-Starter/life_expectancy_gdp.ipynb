{
 "cells": [
  {
   "cell_type": "markdown",
   "metadata": {},
   "source": [
    "# Life Expectancy and GDP"
   ]
  },
  {
   "cell_type": "markdown",
   "metadata": {},
   "source": [
    "Problem: Is there a connection between life expectancy and a nation's GDP?\n",
    " \n",
    "| Goals        | Goal Type    | Constraints  |\n",
    "| ------------ | ------------ | ------------ |\n",
    "| Find countries with lowest life expectancy | efficiency | provide funding to improve life expectancy in lowest areas |\n",
    "| Find countries with lowest and highest GDP | equity | can't force nations to help others |\n",
    "| Find any correlation between life expectancy and GDP | equity | provide a better understanding for the links in order to provide proof and garner support |"
   ]
  },
  {
   "cell_type": "markdown",
   "metadata": {},
   "source": [
    "### Step 1\n",
    "First we need to impor the libraries that we are going to utilize during the project:\n",
    "- `from matplotlib import pyplot as plt`\n",
    "- `import pandas as pd`\n",
    "- `import seaborn as sns`\n"
   ]
  },
  {
   "cell_type": "code",
   "execution_count": 37,
   "metadata": {},
   "outputs": [],
   "source": [
    "from matplotlib import pyplot as plt\n",
    "import pandas as pd\n",
    "import seaborn as sns"
   ]
  },
  {
   "cell_type": "markdown",
   "metadata": {},
   "source": [
    "### Step 2\n",
    "Next we need to import our dataset utilizing pandas"
   ]
  },
  {
   "cell_type": "code",
   "execution_count": 38,
   "metadata": {},
   "outputs": [],
   "source": [
    "df = pd.read_csv('all_data.csv')"
   ]
  },
  {
   "cell_type": "markdown",
   "metadata": {},
   "source": [
    "### Step 3\n",
    "Some intial data exploration is in order. First will get basic information using <code>df.info()</code>"
   ]
  },
  {
   "cell_type": "code",
   "execution_count": 39,
   "metadata": {},
   "outputs": [
    {
     "name": "stdout",
     "output_type": "stream",
     "text": [
      "<class 'pandas.core.frame.DataFrame'>\n",
      "RangeIndex: 96 entries, 0 to 95\n",
      "Data columns (total 4 columns):\n",
      " #   Column                            Non-Null Count  Dtype  \n",
      "---  ------                            --------------  -----  \n",
      " 0   Country                           96 non-null     object \n",
      " 1   Year                              96 non-null     int64  \n",
      " 2   Life expectancy at birth (years)  96 non-null     float64\n",
      " 3   GDP                               96 non-null     float64\n",
      "dtypes: float64(2), int64(1), object(1)\n",
      "memory usage: 3.1+ KB\n",
      "None\n"
     ]
    }
   ],
   "source": [
    "print(df.info())"
   ]
  },
  {
   "cell_type": "markdown",
   "metadata": {},
   "source": [
    "We know how many rows there, the datatype for each, along with the possibility of any null items. The dataframe has 4 columns with 96 entries.\n",
    "\n",
    "Next, we can see what each of the datatypes looks like and explore into each of the individual columns a little more:"
   ]
  },
  {
   "cell_type": "code",
   "execution_count": 40,
   "metadata": {},
   "outputs": [
    {
     "name": "stdout",
     "output_type": "stream",
     "text": [
      "  Country  Year  Life expectancy at birth (years)           GDP\n",
      "0   Chile  2000                              77.3  7.786093e+10\n",
      "1   Chile  2001                              77.3  7.097992e+10\n",
      "2   Chile  2002                              77.8  6.973681e+10\n",
      "3   Chile  2003                              77.9  7.564346e+10\n",
      "4   Chile  2004                              78.0  9.921039e+10\n",
      "['Chile' 'China' 'Germany' 'Mexico' 'United States of America' 'Zimbabwe']\n",
      "[2000 2001 2002 2003 2004 2005 2006 2007 2008 2009 2010 2011 2012 2013\n",
      " 2014 2015]\n"
     ]
    }
   ],
   "source": [
    "print(df.head())\n",
    "print(df.Country.unique())\n",
    "print(df.Year.unique())"
   ]
  },
  {
   "cell_type": "markdown",
   "metadata": {},
   "source": [
    "So, there are 6 different countries, with information spanning a 15 year period (from 2000 to 2015). The six countries span across several different continents: South America (Chile), North America (Mexico and the United States), Africa (Zimbabwe), Europe (Germany), and Asia (China). It's important to note that these countries vary in sizes and populations."
   ]
  },
  {
   "cell_type": "code",
   "execution_count": 41,
   "metadata": {},
   "outputs": [
    {
     "name": "stdout",
     "output_type": "stream",
     "text": [
      "count    96.000000\n",
      "mean     72.789583\n",
      "std      10.672882\n",
      "min      44.300000\n",
      "25%      74.475000\n",
      "50%      76.750000\n",
      "75%      78.900000\n",
      "max      81.000000\n",
      "Name: Life expectancy at birth (years), dtype: float64\n",
      "count    9.600000e+01\n",
      "mean     3.880499e+12\n",
      "std      5.197561e+12\n",
      "min      4.415703e+09\n",
      "25%      1.733018e+11\n",
      "50%      1.280220e+12\n",
      "75%      4.067510e+12\n",
      "max      1.810000e+13\n",
      "Name: GDP, dtype: float64\n"
     ]
    }
   ],
   "source": [
    "print(df['Life expectancy at birth (years)'].describe())\n",
    "print(df.GDP.describe())"
   ]
  },
  {
   "cell_type": "markdown",
   "metadata": {},
   "source": [
    "- Life expectancy goes from 44.3 to 81, with a mean of 72.78 and median of 76.75. The full title of the column is `Life expectancy at birth (years)` which may be different to work with so we might want to change it to something shorter.\n",
    "- GDP goes from 4.4e9 to 1.81e13, with a mean of 3.88e12 and median of 1.28e12. The column data is in scientific notation, the min value is 4.4 billion while the max value is 18.1 trillion. In order to be easier to read, we'll want to convert the values to either read as parts of billions or trillions. The 18.1 trillion however is going to be a very large value as compared to 4.4 billion which may make any observation difficult to read."
   ]
  },
  {
   "cell_type": "markdown",
   "metadata": {},
   "source": [
    "### Step 4\n",
    "Clean up data. \n",
    "\n",
    "We're going to rename the Life expectancy column to `Lifespan`. We're then going to divide each GDP value by 100 billion to make it more readable."
   ]
  },
  {
   "cell_type": "code",
   "execution_count": 42,
   "metadata": {},
   "outputs": [
    {
     "name": "stdout",
     "output_type": "stream",
     "text": [
      "              Year   Lifespan         GDP\n",
      "count    96.000000  96.000000   96.000000\n",
      "mean   2007.500000  72.789583   38.804986\n",
      "std       4.633971  10.672882   51.975613\n",
      "min    2000.000000  44.300000    0.044157\n",
      "25%    2003.750000  74.475000    1.733017\n",
      "50%    2007.500000  76.750000   12.802200\n",
      "75%    2011.250000  78.900000   40.675100\n",
      "max    2015.000000  81.000000  181.000000\n"
     ]
    }
   ],
   "source": [
    "df = df.rename(columns={'Life expectancy at birth (years)': 'Lifespan'})\n",
    "df.GDP = df.GDP / 100000000000\n",
    "print(df.describe())"
   ]
  }
 ],
 "metadata": {
  "kernelspec": {
   "display_name": "Python 3",
   "language": "python",
   "name": "python3"
  },
  "language_info": {
   "codemirror_mode": {
    "name": "ipython",
    "version": 3
   },
   "file_extension": ".py",
   "mimetype": "text/x-python",
   "name": "python",
   "nbconvert_exporter": "python",
   "pygments_lexer": "ipython3",
   "version": "3.10.0"
  }
 },
 "nbformat": 4,
 "nbformat_minor": 4
}
