{
    "cells": [
        {
            "cell_type": "code",
            "execution_count": 9,
            "source": [
                "import re\r\n",
                "import math"
            ],
            "outputs": [],
            "metadata": {}
        },
        {
            "cell_type": "code",
            "execution_count": 10,
            "source": [
                "s = 'azcbobobegghakl'\r\n",
                "countVowel = 0\r\n",
                "for char in s:\r\n",
                "  if char in 'aeiou':\r\n",
                "    countVowel += 1\r\n",
                "print('Number of vowels:', countVowel)"
            ],
            "outputs": [
                {
                    "output_type": "stream",
                    "name": "stdout",
                    "text": [
                        "Number of vowels: 5\n"
                    ]
                }
            ],
            "metadata": {}
        },
        {
            "cell_type": "code",
            "execution_count": 11,
            "source": [
                "res = re.findall(r\"b(?=ob)\", s)\r\n",
                "print(res)"
            ],
            "outputs": [
                {
                    "output_type": "stream",
                    "name": "stdout",
                    "text": [
                        "['b', 'b']\n"
                    ]
                }
            ],
            "metadata": {}
        },
        {
            "cell_type": "code",
            "execution_count": 12,
            "source": [
                "string2 = 'abcbcd'\r\n",
                "def alphaMatch(string):\r\n",
                "  currMatch = ''\r\n",
                "  matches = []\r\n",
                "  matchLengths = []\r\n",
                "  for i in range(0,len(string)):\r\n",
                "    if i == len(string):\r\n",
                "      break\r\n",
                "    else:\r\n",
                "      if not currMatch:\r\n",
                "        currMatch += string[i]\r\n",
                "      elif currMatch[-1] <= string[i]:\r\n",
                "        currMatch += string[i]\r\n",
                "      else:\r\n",
                "        matches.append(currMatch)\r\n",
                "        matchLengths.append(len(currMatch))\r\n",
                "        currMatch = string[i]\r\n",
                "  finalMatch = ''\r\n",
                "  for match in matches:\r\n",
                "    if len(match) > len(finalMatch):\r\n",
                "      finalMatch = match\r\n",
                "  return 'Longest substring in alphabetical order is: ' + finalMatch\r\n",
                "\r\n",
                "print(alphaMatch(string2))\r\n",
                "print(alphaMatch(s))\r\n",
                "\r\n"
            ],
            "outputs": [
                {
                    "output_type": "stream",
                    "name": "stdout",
                    "text": [
                        "Longest substring in alphabetical order is: abc\n",
                        "Longest substring in alphabetical order is: beggh\n"
                    ]
                }
            ],
            "metadata": {}
        },
        {
            "cell_type": "code",
            "execution_count": 5,
            "source": [
                "instructions = \"Enter 'h' to indicate the guess is too high. Enter 'l' to indicate the guess is too low. Enter 'c' to indicate I guessed correctly.\"\r\n",
                "\r\n",
                "print('Please think of a number between 0 and 100!')\r\n",
                "current_guess = 50\r\n",
                "low_range = 0\r\n",
                "high_range = 100\r\n",
                "\r\n",
                "while True:\r\n",
                "  print('Is your secret number ' + str(current_guess) + '?')\r\n",
                "  state = input(instructions)\r\n",
                "  if state.lower() not in ['h', 'l', 'c']:\r\n",
                "    print('Sorry, I did not understand your input.')\r\n",
                "    continue\r\n",
                "  else:\r\n",
                "    if state.lower() == 'h':\r\n",
                "      high_range = current_guess\r\n",
                "      current_guess = current_guess - math.ceil((current_guess - low_range) / 2)\r\n",
                "    elif state.lower() == 'l':\r\n",
                "      low_range = current_guess\r\n",
                "      current_guess = current_guess + math.floor((high_range - current_guess) / 2)\r\n",
                "    elif state.lower() == 'c':\r\n",
                "      print('Game over. Your secret number was:', current_guess)\r\n",
                "      break"
            ],
            "outputs": [
                {
                    "output_type": "stream",
                    "name": "stdout",
                    "text": [
                        "Please think of a number between 0 and 100!\n",
                        "Is your secret number 50?\n",
                        "Game over. Your secret number was: 50\n"
                    ]
                }
            ],
            "metadata": {}
        },
        {
            "cell_type": "code",
            "execution_count": 6,
            "source": [
                "def remBalance(balance, intRate, minPay):\r\n",
                "  monthlyInterestRate = intRate / 12.0\r\n",
                "  for x in range(1,13):\r\n",
                "    minimum = balance * minPay\r\n",
                "    balance -= minimum\r\n",
                "    balance += (monthlyInterestRate * balance)\r\n",
                "  return 'Remaining Balance: ' + str(round(balance, 2))\r\n",
                "\r\n",
                "print(remBalance(42, 0.2, 0.04))\r\n",
                "print(remBalance(484, 0.2, 0.04))"
            ],
            "outputs": [
                {
                    "output_type": "stream",
                    "name": "stdout",
                    "text": [
                        "Remaining Balance: 31.38\n",
                        "Remaining Balance: 361.61\n"
                    ]
                }
            ],
            "metadata": {}
        },
        {
            "cell_type": "code",
            "execution_count": 7,
            "source": [
                "def minPayoff(balance, intRate):\r\n",
                "  monthlyInterestRate = intRate / 12.0\r\n",
                "  lowPay = round(balance / 12, -1)\r\n",
                "  while True:\r\n",
                "    startBal = balance\r\n",
                "    for x in range(1,13):\r\n",
                "      startBal -= lowPay\r\n",
                "      startBal += (monthlyInterestRate * startBal)\r\n",
                "    if startBal <= 0:\r\n",
                "      break\r\n",
                "    else:\r\n",
                "      lowPay += 10\r\n",
                "  return 'Lowest Payment: ' + str(int(lowPay))\r\n",
                "\r\n",
                "print(minPayoff(3329, 0.2))\r\n",
                "print(minPayoff(4773, 0.2))\r\n",
                "print(minPayoff(3926, 0.2))\r\n"
            ],
            "outputs": [
                {
                    "output_type": "stream",
                    "name": "stdout",
                    "text": [
                        "Lowest Payment: 310\n",
                        "Lowest Payment: 440\n",
                        "Lowest Payment: 360\n"
                    ]
                }
            ],
            "metadata": {}
        },
        {
            "cell_type": "code",
            "execution_count": 8,
            "source": [
                "# This still needs to be worked out, problem three of PSET 2\r\n",
                "\r\n",
                "def biSectionPayOff(balance, intRate):\r\n",
                "  monthlyInterestRate = intRate / 12.0\r\n",
                "  lowBound = balance / 12\r\n",
                "  uppBound = (balance * ((1 + monthlyInterestRate) ** 12)) / 12.0\r\n",
                "  startBal = balance\r\n",
                "  if uppBound - lowBound < 0.01:\r\n",
                "    return 'Lowest Payment: ' + str(int(uppBound))\r\n",
                "  while startBal > 0 or startBal < -0.01:\r\n",
                "    boundDiff = uppBound - lowBound\r\n",
                "    payment = round(boundDiff / 2 + lowBound, 2)\r\n",
                "    for month in range(0,12):\r\n",
                "      startBal -= payment\r\n",
                "      startBal += monthlyInterestRate * startBal\r\n",
                "    if startBal > 0.1:\r\n",
                "      lowBound = payment\r\n",
                "      startBal = balance\r\n",
                "    elif startBal < -0.1:\r\n",
                "      uppBound = payment\r\n",
                "      startBal = balance\r\n",
                "    else:\r\n",
                "      return f'Lowest Payment: {payment:.2f}'\r\n",
                "\r\n",
                "# should be 29157.09 +/- 0.05\r\n",
                "print(biSectionPayOff(320000, 0.2))\r\n",
                "\r\n",
                "# should be 90325.03 +/- 0.05\r\n",
                "print(biSectionPayOff(999999, 0.18))"
            ],
            "outputs": [
                {
                    "output_type": "stream",
                    "name": "stdout",
                    "text": [
                        "Lowest Payment: 29157.09\n",
                        "Lowest Payment: 90325.02\n"
                    ]
                }
            ],
            "metadata": {}
        }
    ],
    "metadata": {
        "orig_nbformat": 4,
        "language_info": {
            "name": "python",
            "version": "3.9.6",
            "mimetype": "text/x-python",
            "codemirror_mode": {
                "name": "ipython",
                "version": 3
            },
            "pygments_lexer": "ipython3",
            "nbconvert_exporter": "python",
            "file_extension": ".py"
        },
        "kernelspec": {
            "name": "python3",
            "display_name": "Python 3.9.6 64-bit ('venv': venv)"
        },
        "interpreter": {
            "hash": "b6673b262a7d29c79597d819f36d32fd11e60f7609d2f6dc9cb7d01d53349877"
        }
    },
    "nbformat": 4,
    "nbformat_minor": 2
}