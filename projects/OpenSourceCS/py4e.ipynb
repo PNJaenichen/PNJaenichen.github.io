{
    "cells": [
        {
            "cell_type": "code",
            "execution_count": 9,
            "metadata": {},
            "outputs": [],
            "source": [
                "import re\n",
                "import math"
            ]
        },
        {
            "cell_type": "code",
            "execution_count": 10,
            "metadata": {},
            "outputs": [
                {
                    "name": "stdout",
                    "output_type": "stream",
                    "text": [
                        "Number of vowels: 5\n"
                    ]
                }
            ],
            "source": [
                "s = 'azcbobobegghakl'\n",
                "countVowel = 0\n",
                "for char in s:\n",
                "  if char in 'aeiou':\n",
                "    countVowel += 1\n",
                "print('Number of vowels:', countVowel)"
            ]
        },
        {
            "cell_type": "code",
            "execution_count": 11,
            "metadata": {},
            "outputs": [
                {
                    "name": "stdout",
                    "output_type": "stream",
                    "text": [
                        "['b', 'b']\n"
                    ]
                }
            ],
            "source": [
                "res = re.findall(r\"b(?=ob)\", s)\n",
                "print(res)"
            ]
        },
        {
            "cell_type": "code",
            "execution_count": 12,
            "metadata": {},
            "outputs": [
                {
                    "name": "stdout",
                    "output_type": "stream",
                    "text": [
                        "Longest substring in alphabetical order is: abc\n",
                        "Longest substring in alphabetical order is: beggh\n"
                    ]
                }
            ],
            "source": [
                "string2 = 'abcbcd'\n",
                "def alphaMatch(string):\n",
                "  currMatch = ''\n",
                "  matches = []\n",
                "  matchLengths = []\n",
                "  for i in range(0,len(string)):\n",
                "    if i == len(string):\n",
                "      break\n",
                "    else:\n",
                "      if not currMatch:\n",
                "        currMatch += string[i]\n",
                "      elif currMatch[-1] <= string[i]:\n",
                "        currMatch += string[i]\n",
                "      else:\n",
                "        matches.append(currMatch)\n",
                "        matchLengths.append(len(currMatch))\n",
                "        currMatch = string[i]\n",
                "  finalMatch = ''\n",
                "  for match in matches:\n",
                "    if len(match) > len(finalMatch):\n",
                "      finalMatch = match\n",
                "  return 'Longest substring in alphabetical order is: ' + finalMatch\n",
                "\n",
                "print(alphaMatch(string2))\n",
                "print(alphaMatch(s))\n",
                "\n"
            ]
        },
        {
            "cell_type": "code",
            "execution_count": 5,
            "metadata": {},
            "outputs": [
                {
                    "name": "stdout",
                    "output_type": "stream",
                    "text": [
                        "Please think of a number between 0 and 100!\n",
                        "Is your secret number 50?\n",
                        "Game over. Your secret number was: 50\n"
                    ]
                }
            ],
            "source": [
                "instructions = \"Enter 'h' to indicate the guess is too high. Enter 'l' to indicate the guess is too low. Enter 'c' to indicate I guessed correctly.\"\n",
                "\n",
                "print('Please think of a number between 0 and 100!')\n",
                "current_guess = 50\n",
                "low_range = 0\n",
                "high_range = 100\n",
                "\n",
                "while True:\n",
                "  print('Is your secret number ' + str(current_guess) + '?')\n",
                "  state = input(instructions)\n",
                "  if state.lower() not in ['h', 'l', 'c']:\n",
                "    print('Sorry, I did not understand your input.')\n",
                "    continue\n",
                "  else:\n",
                "    if state.lower() == 'h':\n",
                "      high_range = current_guess\n",
                "      current_guess = current_guess - math.ceil((current_guess - low_range) / 2)\n",
                "    elif state.lower() == 'l':\n",
                "      low_range = current_guess\n",
                "      current_guess = current_guess + math.floor((high_range - current_guess) / 2)\n",
                "    elif state.lower() == 'c':\n",
                "      print('Game over. Your secret number was:', current_guess)\n",
                "      break"
            ]
        },
        {
            "cell_type": "code",
            "execution_count": 6,
            "metadata": {},
            "outputs": [
                {
                    "name": "stdout",
                    "output_type": "stream",
                    "text": [
                        "Remaining Balance: 31.38\n",
                        "Remaining Balance: 361.61\n"
                    ]
                }
            ],
            "source": [
                "def remBalance(balance, intRate, minPay):\n",
                "  monthlyInterestRate = intRate / 12.0\n",
                "  for x in range(1,13):\n",
                "    minimum = balance * minPay\n",
                "    balance -= minimum\n",
                "    balance += (monthlyInterestRate * balance)\n",
                "  return 'Remaining Balance: ' + str(round(balance, 2))\n",
                "\n",
                "print(remBalance(42, 0.2, 0.04))\n",
                "print(remBalance(484, 0.2, 0.04))"
            ]
        },
        {
            "cell_type": "code",
            "execution_count": 7,
            "metadata": {},
            "outputs": [
                {
                    "name": "stdout",
                    "output_type": "stream",
                    "text": [
                        "Lowest Payment: 310\n",
                        "Lowest Payment: 440\n",
                        "Lowest Payment: 360\n"
                    ]
                }
            ],
            "source": [
                "def minPayoff(balance, intRate):\n",
                "  monthlyInterestRate = intRate / 12.0\n",
                "  lowPay = round(balance / 12, -1)\n",
                "  while True:\n",
                "    startBal = balance\n",
                "    for x in range(1,13):\n",
                "      startBal -= lowPay\n",
                "      startBal += (monthlyInterestRate * startBal)\n",
                "    if startBal <= 0:\n",
                "      break\n",
                "    else:\n",
                "      lowPay += 10\n",
                "  return 'Lowest Payment: ' + str(int(lowPay))\n",
                "\n",
                "print(minPayoff(3329, 0.2))\n",
                "print(minPayoff(4773, 0.2))\n",
                "print(minPayoff(3926, 0.2))\n"
            ]
        },
        {
            "cell_type": "code",
            "execution_count": 8,
            "metadata": {},
            "outputs": [
                {
                    "name": "stdout",
                    "output_type": "stream",
                    "text": [
                        "Lowest Payment: 29157.09\n",
                        "Lowest Payment: 90325.02\n"
                    ]
                }
            ],
            "source": [
                "# This still needs to be worked out, problem three of PSET 2\n",
                "\n",
                "def biSectionPayOff(balance, intRate):\n",
                "  monthlyInterestRate = intRate / 12.0\n",
                "  lowBound = balance / 12\n",
                "  uppBound = (balance * ((1 + monthlyInterestRate) ** 12)) / 12.0\n",
                "  startBal = balance\n",
                "  if uppBound - lowBound < 0.01:\n",
                "    return 'Lowest Payment: ' + str(int(uppBound))\n",
                "  while startBal > 0 or startBal < -0.01:\n",
                "    boundDiff = uppBound - lowBound\n",
                "    payment = round(boundDiff / 2 + lowBound, 2)\n",
                "    for month in range(0,12):\n",
                "      startBal -= payment\n",
                "      startBal += monthlyInterestRate * startBal\n",
                "    if startBal > 0.1:\n",
                "      lowBound = payment\n",
                "      startBal = balance\n",
                "    elif startBal < -0.1:\n",
                "      uppBound = payment\n",
                "      startBal = balance\n",
                "    else:\n",
                "      return f'Lowest Payment: {payment:.2f}'\n",
                "\n",
                "# should be 29157.09 +/- 0.05\n",
                "print(biSectionPayOff(320000, 0.2))\n",
                "\n",
                "# should be 90325.03 +/- 0.05\n",
                "print(biSectionPayOff(999999, 0.18))"
            ]
        }
    ],
    "metadata": {
        "interpreter": {
            "hash": "b6673b262a7d29c79597d819f36d32fd11e60f7609d2f6dc9cb7d01d53349877"
        },
        "kernelspec": {
            "display_name": "Python 3.9.6 64-bit ('venv': venv)",
            "name": "python3"
        },
        "language_info": {
            "codemirror_mode": {
                "name": "ipython",
                "version": 3
            },
            "file_extension": ".py",
            "mimetype": "text/x-python",
            "name": "python",
            "nbconvert_exporter": "python",
            "pygments_lexer": "ipython3",
            "version": "3.9.6"
        },
        "orig_nbformat": 4
    },
    "nbformat": 4,
    "nbformat_minor": 2
}
