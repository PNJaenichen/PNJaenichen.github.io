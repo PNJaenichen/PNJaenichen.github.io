{
    "cells": [
        {
            "cell_type": "code",
            "execution_count": 1,
            "source": [
                "import re"
            ],
            "outputs": [],
            "metadata": {}
        },
        {
            "cell_type": "code",
            "execution_count": 2,
            "source": [
                "s = 'azcbobobegghakl'\r\n",
                "countVowel = 0\r\n",
                "for char in s:\r\n",
                "  if char in 'aeiou':\r\n",
                "    countVowel += 1\r\n",
                "print('Number of vowels:', countVowel)"
            ],
            "outputs": [
                {
                    "output_type": "stream",
                    "name": "stdout",
                    "text": [
                        "Number of vowels: 5\n"
                    ]
                }
            ],
            "metadata": {}
        },
        {
            "cell_type": "code",
            "execution_count": 3,
            "source": [
                "res = re.findall(r\"b(?=ob)\", s)\r\n",
                "print(res)"
            ],
            "outputs": [
                {
                    "output_type": "stream",
                    "name": "stdout",
                    "text": [
                        "['b', 'b']\n"
                    ]
                }
            ],
            "metadata": {}
        },
        {
            "cell_type": "code",
            "execution_count": 6,
            "source": [
                "string2 = 'abcbcd'\r\n",
                "def alphaMatch(string):\r\n",
                "  currMatch = ''\r\n",
                "  matches = []\r\n",
                "  matchLengths = []\r\n",
                "  for i in range(0,len(string)):\r\n",
                "    if i == len(string):\r\n",
                "      break\r\n",
                "    else:\r\n",
                "      if not currMatch:\r\n",
                "        currMatch += string[i]\r\n",
                "      elif currMatch[-1] < string[i]:\r\n",
                "        currMatch += string[i]\r\n",
                "      else:\r\n",
                "        matches.append(currMatch)\r\n",
                "        matchLengths.append(len(currMatch))\r\n",
                "        currMatch = ''\r\n",
                "  finalMatch = ''\r\n",
                "  for match in matches:\r\n",
                "    if len(match) > len(finalMatch):\r\n",
                "      finalMatch = match\r\n",
                "  print(matches)\r\n",
                "  return finalMatch\r\n",
                "\r\n",
                "print(alphaMatch(string2))\r\n",
                "print(alphaMatch(s))\r\n",
                "\r\n"
            ],
            "outputs": [
                {
                    "output_type": "stream",
                    "name": "stdout",
                    "text": [
                        "['abc']\n",
                        "abc\n",
                        "['az', 'bo', 'o', 'eg', 'h']\n",
                        "az\n",
                        "False\n"
                    ]
                }
            ],
            "metadata": {}
        }
    ],
    "metadata": {
        "orig_nbformat": 4,
        "language_info": {
            "name": "python"
        }
    },
    "nbformat": 4,
    "nbformat_minor": 2
}