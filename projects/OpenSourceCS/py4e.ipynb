{
    "cells": [
        {
            "cell_type": "code",
            "execution_count": 27,
            "source": [
                "import re\r\n",
                "import math"
            ],
            "outputs": [],
            "metadata": {}
        },
        {
            "cell_type": "code",
            "execution_count": 2,
            "source": [
                "s = 'azcbobobegghakl'\r\n",
                "countVowel = 0\r\n",
                "for char in s:\r\n",
                "  if char in 'aeiou':\r\n",
                "    countVowel += 1\r\n",
                "print('Number of vowels:', countVowel)"
            ],
            "outputs": [
                {
                    "output_type": "stream",
                    "name": "stdout",
                    "text": [
                        "Number of vowels: 5\n"
                    ]
                }
            ],
            "metadata": {}
        },
        {
            "cell_type": "code",
            "execution_count": 3,
            "source": [
                "res = re.findall(r\"b(?=ob)\", s)\r\n",
                "print(res)"
            ],
            "outputs": [
                {
                    "output_type": "stream",
                    "name": "stdout",
                    "text": [
                        "['b', 'b']\n"
                    ]
                }
            ],
            "metadata": {}
        },
        {
            "cell_type": "code",
            "execution_count": 13,
            "source": [
                "string2 = 'abcbcd'\r\n",
                "def alphaMatch(string):\r\n",
                "  currMatch = ''\r\n",
                "  matches = []\r\n",
                "  matchLengths = []\r\n",
                "  for i in range(0,len(string)):\r\n",
                "    if i == len(string):\r\n",
                "      break\r\n",
                "    else:\r\n",
                "      if not currMatch:\r\n",
                "        currMatch += string[i]\r\n",
                "      elif currMatch[-1] <= string[i]:\r\n",
                "        currMatch += string[i]\r\n",
                "      else:\r\n",
                "        matches.append(currMatch)\r\n",
                "        matchLengths.append(len(currMatch))\r\n",
                "        currMatch = string[i]\r\n",
                "  finalMatch = ''\r\n",
                "  for match in matches:\r\n",
                "    if len(match) > len(finalMatch):\r\n",
                "      finalMatch = match\r\n",
                "  return 'Longest substring in alphabetical order is: ' + finalMatch\r\n",
                "\r\n",
                "print(alphaMatch(string2))\r\n",
                "print(alphaMatch(s))\r\n",
                "\r\n"
            ],
            "outputs": [
                {
                    "output_type": "stream",
                    "name": "stdout",
                    "text": [
                        "Longest substring in alphabetical order is: abc\n",
                        "Longest substring in alphabetical order is: beggh\n"
                    ]
                }
            ],
            "metadata": {}
        },
        {
            "cell_type": "code",
            "execution_count": 26,
            "source": [
                "instructions = \"Enter 'h' to indicate the guess is too high. Enter 'l' to indicate the guess is too low. Enter 'c' to indicate I guessed correctly.\"\r\n",
                "\r\n",
                "print('Please think of a number between 0 and 100!')\r\n",
                "current_guess = 50\r\n",
                "low_range = 0\r\n",
                "high_range = 100\r\n",
                "\r\n",
                "while True:\r\n",
                "  print('Is your secret number ' + str(current_guess) + '?')\r\n",
                "  state = input(instructions)\r\n",
                "  if state.lower() not in ['h', 'l', 'c']:\r\n",
                "    print('Sorry, I did not understand your input.')\r\n",
                "    continue\r\n",
                "  else:\r\n",
                "    if state.lower() == 'h':\r\n",
                "      high_range = current_guess\r\n",
                "      current_guess = current_guess - math.ceil((current_guess - low_range) / 2)\r\n",
                "    elif state.lower() == 'l':\r\n",
                "      low_range = current_guess\r\n",
                "      current_guess = current_guess + math.floor((high_range - current_guess) / 2)\r\n",
                "    elif state.lower() == 'c':\r\n",
                "      print('Game over. Your secret number was:', current_guess)\r\n",
                "      break"
            ],
            "outputs": [
                {
                    "output_type": "stream",
                    "name": "stdout",
                    "text": [
                        "Please think of a number between 0 and 100!\n",
                        "Is your secret number 50?\n",
                        "Is your secret number 75?\n",
                        "Is your secret number 87?\n",
                        "Is your secret number 81?\n",
                        "Is your secret number 84?\n",
                        "Is your secret number 83?\n",
                        "Game over. Your secret number was: 83\n"
                    ]
                }
            ],
            "metadata": {}
        }
    ],
    "metadata": {
        "orig_nbformat": 4,
        "language_info": {
            "name": "python"
        }
    },
    "nbformat": 4,
    "nbformat_minor": 2
}