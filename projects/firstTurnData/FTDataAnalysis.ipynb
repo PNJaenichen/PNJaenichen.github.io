{
 "cells": [
  {
   "cell_type": "markdown",
   "source": [
    "This notebook will be for the data analysis of First Turn Cast data. The goal is to move from Tableau to Python for doing data analysis."
   ],
   "metadata": {}
  },
  {
   "cell_type": "code",
   "execution_count": 1,
   "source": [
    "## import needed libraries\r\n",
    "\r\n",
    "import pandas as pd\r\n",
    "import matplotlib.pyplot as plt \r\n",
    "import seaborn as sns \r\n"
   ],
   "outputs": [],
   "metadata": {}
  },
  {
   "cell_type": "code",
   "execution_count": 5,
   "source": [
    "user_data = pd.read_excel(\"FirstTurnCombined.xlsx\", index_col=0)\r\n",
    "print(user_data.head(5))"
   ],
   "outputs": [
    {
     "output_type": "stream",
     "name": "stdout",
     "text": [
      "                   Season  Play_Length  Box_Length  Time_Delta  Complexity  \\\n",
      "Game                                                                         \n",
      "7 Wonders Duel          1         60.0          30        30.0        2.22   \n",
      "Altiplano               1        150.0          90        60.0        3.31   \n",
      "Arboretum               1         40.0          30        10.0        2.15   \n",
      "Biblios                 1         40.0          30        10.0        1.68   \n",
      "Call to Adventure       1         75.0          45        30.0        2.00   \n",
      "\n",
      "                   Rating    Rank Live? Start_Player Winner  ...  Unnamed: 56  \\\n",
      "Game                                                         ...                \n",
      "7 Wonders Duel        8.1    17.0    No         Kiwi   Kiwi  ...          NaN   \n",
      "Altiplano             7.6   277.0    No         Eric   Kiwi  ...          NaN   \n",
      "Arboretum             7.4   252.0    No         Eric   Eric  ...          NaN   \n",
      "Biblios               7.2   324.0    No           bP   Kiwi  ...          NaN   \n",
      "Call to Adventure     7.4  1114.0   Yes         Eric   Kiwi  ...          NaN   \n",
      "\n",
      "                   Unnamed: 57  Unnamed: 58 Unnamed: 59 Unnamed: 60  \\\n",
      "Game                                                                  \n",
      "7 Wonders Duel             NaN          NaN         NaN         NaN   \n",
      "Altiplano                  NaN          NaN         NaN         NaN   \n",
      "Arboretum                  NaN          NaN         NaN         NaN   \n",
      "Biblios                    NaN          NaN         NaN         NaN   \n",
      "Call to Adventure          NaN          NaN         NaN         NaN   \n",
      "\n",
      "                   Unnamed: 61  Unnamed: 62  Unnamed: 63 Unnamed: 64  \\\n",
      "Game                                                                   \n",
      "7 Wonders Duel             NaN          NaN          NaN         NaN   \n",
      "Altiplano                  NaN          NaN          NaN         NaN   \n",
      "Arboretum                  NaN          NaN          NaN         NaN   \n",
      "Biblios                    NaN          NaN          NaN         NaN   \n",
      "Call to Adventure          NaN          NaN          NaN         NaN   \n",
      "\n",
      "                  Unnamed: 65  \n",
      "Game                           \n",
      "7 Wonders Duel            NaN  \n",
      "Altiplano                 NaN  \n",
      "Arboretum                 NaN  \n",
      "Biblios                   NaN  \n",
      "Call to Adventure         NaN  \n",
      "\n",
      "[5 rows x 65 columns]\n"
     ]
    }
   ],
   "metadata": {}
  }
 ],
 "metadata": {
  "orig_nbformat": 4,
  "language_info": {
   "name": "python",
   "version": "3.9.6",
   "mimetype": "text/x-python",
   "codemirror_mode": {
    "name": "ipython",
    "version": 3
   },
   "pygments_lexer": "ipython3",
   "nbconvert_exporter": "python",
   "file_extension": ".py"
  },
  "kernelspec": {
   "name": "python3",
   "display_name": "Python 3.9.6 64-bit"
  },
  "interpreter": {
   "hash": "63fd5069d213b44bf678585dea6b12cceca9941eaf7f819626cde1f2670de90d"
  }
 },
 "nbformat": 4,
 "nbformat_minor": 2
}