{
 "cells": [
  {
   "cell_type": "markdown",
   "source": [
    "This notebook will be for the data analysis of First Turn Cast data. The goal is to move from Tableau to Python for doing data analysis."
   ],
   "metadata": {}
  },
  {
   "cell_type": "code",
   "execution_count": 9,
   "source": [
    "## import needed libraries\r\n",
    "\r\n",
    "import pandas as pd\r\n",
    "import matplotlib.pyplot as plt \r\n",
    "import seaborn as sns \r\n",
    "import numpy as np"
   ],
   "outputs": [],
   "metadata": {}
  },
  {
   "cell_type": "code",
   "execution_count": 12,
   "source": [
    "user_data = pd.read_excel(\"FirstTurnCombined.xlsx\")\r\n",
    "print(user_data.info())\r\n",
    "print(user_data.head(5))"
   ],
   "outputs": [
    {
     "output_type": "stream",
     "name": "stdout",
     "text": [
      "<class 'pandas.core.frame.DataFrame'>\n",
      "RangeIndex: 127 entries, 0 to 126\n",
      "Data columns (total 67 columns):\n",
      " #   Column                 Non-Null Count  Dtype  \n",
      "---  ------                 --------------  -----  \n",
      " 0   id                     127 non-null    int64  \n",
      " 1   game                   127 non-null    object \n",
      " 2   season                 127 non-null    int64  \n",
      " 3   play_length            123 non-null    float64\n",
      " 4   box_length             127 non-null    int64  \n",
      " 5   time_delta             124 non-null    float64\n",
      " 6   complexity             125 non-null    float64\n",
      " 7   rating                 124 non-null    float64\n",
      " 8   rank                   124 non-null    float64\n",
      " 9   live                   127 non-null    object \n",
      " 10  start_player           85 non-null     object \n",
      " 11  winner                 109 non-null    object \n",
      " 12  bp_score               88 non-null     float64\n",
      " 13  bp_score_normal        89 non-null     float64\n",
      " 14  bp_score_adjusted      89 non-null     float64\n",
      " 15  bp_pickup              109 non-null    object \n",
      " 16  bp_play_again          106 non-null    object \n",
      " 17  eric_score             79 non-null     float64\n",
      " 18  eric_score_normal      80 non-null     float64\n",
      " 19  eric_score_adjusted    80 non-null     float64\n",
      " 20  eric_pickup            101 non-null    object \n",
      " 21  eric_play_again        100 non-null    object \n",
      " 22  kiwi_score             91 non-null     float64\n",
      " 23  kiwi_score_normal      92 non-null     float64\n",
      " 24  kiwi_score_adjusted    92 non-null     float64\n",
      " 25  kiwi_pickup            118 non-null    object \n",
      " 26  kiwi_play_again        116 non-null    object \n",
      " 27  kait_score             3 non-null      float64\n",
      " 28  kait_score_normal      4 non-null      float64\n",
      " 29  kait_score_adjusted    4 non-null      float64\n",
      " 30  kait_pickup            4 non-null      object \n",
      " 31  kait_play_again        3 non-null      object \n",
      " 32  paxton_score           11 non-null     float64\n",
      " 33  paxton_score_normal    11 non-null     float64\n",
      " 34  paxton_score_adjusted  11 non-null     float64\n",
      " 35  paxton_pickup          11 non-null     object \n",
      " 36  paxton_play_again      11 non-null     object \n",
      " 37  min_normal             94 non-null     float64\n",
      " 38  average_normal         94 non-null     float64\n",
      " 39  max_normal             94 non-null     float64\n",
      " 40  normal_spread          94 non-null     float64\n",
      " 41  all_played             127 non-null    object \n",
      " 42  bgg_mean               94 non-null     float64\n",
      " 43  bgg_std_dev            94 non-null     float64\n",
      " 44  bgg_min                94 non-null     float64\n",
      " 45  bgg_max                94 non-null     float64\n",
      " 46  bgg_1stq               94 non-null     float64\n",
      " 47  bgg_3rdq               94 non-null     float64\n",
      " 48  bgg_median             94 non-null     float64\n",
      " 49  mechanic1              126 non-null    object \n",
      " 50  mechanic2              122 non-null    object \n",
      " 51  mechanic3              106 non-null    object \n",
      " 52  mechanic4              89 non-null     object \n",
      " 53  mechanic5              65 non-null     object \n",
      " 54  mechanic6              35 non-null     object \n",
      " 55  mechanic7              21 non-null     object \n",
      " 56  mechanic8              12 non-null     object \n",
      " 57  mechanic9              6 non-null      object \n",
      " 58  mechanic10             3 non-null      object \n",
      " 59  mechanic11             2 non-null      object \n",
      " 60  mechanic12             2 non-null      object \n",
      " 61  mechanic13             1 non-null      object \n",
      " 62  mechanic14             1 non-null      object \n",
      " 63  mechanic15             1 non-null      object \n",
      " 64  mechanic16             1 non-null      object \n",
      " 65  mechanic17             1 non-null      object \n",
      " 66  mechanic18             1 non-null      object \n",
      "dtypes: float64(31), int64(3), object(33)\n",
      "memory usage: 66.6+ KB\n",
      "None\n",
      "   id               game  season  play_length  box_length  time_delta  \\\n",
      "0   1     7 Wonders Duel       1         60.0          30        30.0   \n",
      "1   2          Altiplano       1        150.0          90        60.0   \n",
      "2   3          Arboretum       1         40.0          30        10.0   \n",
      "3   4            Biblios       1         40.0          30        10.0   \n",
      "4   5  Call to Adventure       1         75.0          45        30.0   \n",
      "\n",
      "   complexity  rating    rank live  ... mechanic9 mechanic10  mechanic11  \\\n",
      "0        2.22     8.1    17.0   No  ...       NaN        NaN         NaN   \n",
      "1        3.31     7.6   277.0   No  ...       NaN        NaN         NaN   \n",
      "2        2.15     7.4   252.0   No  ...       NaN        NaN         NaN   \n",
      "3        1.68     7.2   324.0   No  ...       NaN        NaN         NaN   \n",
      "4        2.00     7.4  1114.0  Yes  ...       NaN        NaN         NaN   \n",
      "\n",
      "   mechanic12  mechanic13 mechanic14 mechanic15  mechanic16  mechanic17  \\\n",
      "0         NaN         NaN        NaN        NaN         NaN         NaN   \n",
      "1         NaN         NaN        NaN        NaN         NaN         NaN   \n",
      "2         NaN         NaN        NaN        NaN         NaN         NaN   \n",
      "3         NaN         NaN        NaN        NaN         NaN         NaN   \n",
      "4         NaN         NaN        NaN        NaN         NaN         NaN   \n",
      "\n",
      "   mechanic18  \n",
      "0         NaN  \n",
      "1         NaN  \n",
      "2         NaN  \n",
      "3         NaN  \n",
      "4         NaN  \n",
      "\n",
      "[5 rows x 67 columns]\n"
     ]
    }
   ],
   "metadata": {}
  },
  {
   "cell_type": "code",
   "execution_count": 18,
   "source": [
    "user_data[\"season\"] = user_data[\"season\"].astype(str)\r\n",
    "seasons = user_data[\"season\"]\r\n",
    "sns.displot(seasons)\r\n",
    "plt.show()"
   ],
   "outputs": [
    {
     "output_type": "display_data",
     "data": {
      "image/png": "[encoded data removed]",
      "text/plain": [
       "<Figure size 360x360 with 1 Axes>"
      ]
     },
     "metadata": {
      "needs_background": "light"
     }
    }
   ],
   "metadata": {}
  },
  {
   "cell_type": "code",
   "execution_count": 16,
   "source": [
    "season_mean_delta = user_data.groupby(\"season\").time_delta.mean()\r\n",
    "print(season_mean_delta)"
   ],
   "outputs": [
    {
     "output_type": "stream",
     "name": "stdout",
     "text": [
      "season\n",
      "1    15.810811\n",
      "2    19.612245\n",
      "3    18.526316\n",
      "Name: time_delta, dtype: float64\n"
     ]
    }
   ],
   "metadata": {}
  },
  {
   "cell_type": "code",
   "execution_count": 17,
   "source": [
    "plt.close()\r\n",
    "sns.barplot(\r\n",
    "  data=user_data,\r\n",
    "  x=\"season\", \r\n",
    "  y=\"time_delta\"\r\n",
    ")\r\n",
    "plt.show()"
   ],
   "outputs": [
    {
     "output_type": "display_data",
     "data": {
      "image/png": "[encoded data removed]",
      "text/plain": [
       "<Figure size 432x288 with 1 Axes>"
      ]
     },
     "metadata": {
      "needs_background": "light"
     }
    }
   ],
   "metadata": {}
  }
 ],
 "metadata": {
  "orig_nbformat": 4,
  "language_info": {
   "name": "python",
   "version": "3.9.6",
   "mimetype": "text/x-python",
   "codemirror_mode": {
    "name": "ipython",
    "version": 3
   },
   "pygments_lexer": "ipython3",
   "nbconvert_exporter": "python",
   "file_extension": ".py"
  },
  "kernelspec": {
   "name": "python3",
   "display_name": "Python 3.9.6 64-bit"
  },
  "interpreter": {
   "hash": "63fd5069d213b44bf678585dea6b12cceca9941eaf7f819626cde1f2670de90d"
  }
 },
 "nbformat": 4,
 "nbformat_minor": 2
}